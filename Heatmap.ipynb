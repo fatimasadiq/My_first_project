{
  "nbformat": 4,
  "nbformat_minor": 0,
  "metadata": {
    "colab": {
      "name": "Untitled1.ipynb",
      "provenance": [],
      "collapsed_sections": [],
      "authorship_tag": "ABX9TyMW8Kp1+ijTCca0FyXeSJXV",
      "include_colab_link": true
    },
    "kernelspec": {
      "name": "python3",
      "display_name": "Python 3"
    }
  },
  "cells": [
    {
      "cell_type": "markdown",
      "metadata": {
        "id": "view-in-github",
        "colab_type": "text"
      },
      "source": [
        "<a href=\"https://colab.research.google.com/github/fatimasadiq/My_first_project/blob/master/Heatmap.ipynb\" target=\"_parent\"><img src=\"https://colab.research.google.com/assets/colab-badge.svg\" alt=\"Open In Colab\"/></a>"
      ]
    },
    {
      "cell_type": "code",
      "metadata": {
        "id": "VnYoiLVEJzfh",
        "colab_type": "code",
        "colab": {}
      },
      "source": [
        "import pandas as pd\n",
        "import numpy as np\n",
        "import seaborn as sns\n",
        "import matplotlib.pyplot as plt\n",
        "%matplotlib inline"
      ],
      "execution_count": 0,
      "outputs": []
    },
    {
      "cell_type": "code",
      "metadata": {
        "id": "X2xuDg-BKLrz",
        "colab_type": "code",
        "colab": {
          "base_uri": "https://localhost:8080/",
          "height": 206
        },
        "outputId": "3ef25330-32d3-4d43-d893-d60f6bd34d5a"
      },
      "source": [
        "freqdata =pd.read_csv('sample_data/frequency.csv')\n",
        "freqdata.head()"
      ],
      "execution_count": 9,
      "outputs": [
        {
          "output_type": "execute_result",
          "data": {
            "text/html": [
              "<div>\n",
              "<style scoped>\n",
              "    .dataframe tbody tr th:only-of-type {\n",
              "        vertical-align: middle;\n",
              "    }\n",
              "\n",
              "    .dataframe tbody tr th {\n",
              "        vertical-align: top;\n",
              "    }\n",
              "\n",
              "    .dataframe thead th {\n",
              "        text-align: right;\n",
              "    }\n",
              "</style>\n",
              "<table border=\"1\" class=\"dataframe\">\n",
              "  <thead>\n",
              "    <tr style=\"text-align: right;\">\n",
              "      <th></th>\n",
              "      <th>words</th>\n",
              "      <th>frequency</th>\n",
              "    </tr>\n",
              "  </thead>\n",
              "  <tbody>\n",
              "    <tr>\n",
              "      <th>0</th>\n",
              "      <td>driverless</td>\n",
              "      <td>584</td>\n",
              "    </tr>\n",
              "    <tr>\n",
              "      <th>1</th>\n",
              "      <td>cars</td>\n",
              "      <td>408</td>\n",
              "    </tr>\n",
              "    <tr>\n",
              "      <th>2</th>\n",
              "      <td>autonomous</td>\n",
              "      <td>217</td>\n",
              "    </tr>\n",
              "    <tr>\n",
              "      <th>3</th>\n",
              "      <td>google</td>\n",
              "      <td>150</td>\n",
              "    </tr>\n",
              "    <tr>\n",
              "      <th>4</th>\n",
              "      <td>vehicle</td>\n",
              "      <td>107</td>\n",
              "    </tr>\n",
              "  </tbody>\n",
              "</table>\n",
              "</div>"
            ],
            "text/plain": [
              "        words  frequency\n",
              "0  driverless        584\n",
              "1        cars        408\n",
              "2  autonomous        217\n",
              "3      google        150\n",
              "4     vehicle        107"
            ]
          },
          "metadata": {
            "tags": []
          },
          "execution_count": 9
        }
      ]
    },
    {
      "cell_type": "code",
      "metadata": {
        "id": "WJkylloCLMyn",
        "colab_type": "code",
        "colab": {
          "base_uri": "https://localhost:8080/",
          "height": 81
        },
        "outputId": "7870e4a3-0623-4ae0-81a9-fa989e80ce11"
      },
      "source": [
        ""
      ],
      "execution_count": 12,
      "outputs": [
        {
          "output_type": "execute_result",
          "data": {
            "text/html": [
              "<div>\n",
              "<style scoped>\n",
              "    .dataframe tbody tr th:only-of-type {\n",
              "        vertical-align: middle;\n",
              "    }\n",
              "\n",
              "    .dataframe tbody tr th {\n",
              "        vertical-align: top;\n",
              "    }\n",
              "\n",
              "    .dataframe thead th {\n",
              "        text-align: right;\n",
              "    }\n",
              "</style>\n",
              "<table border=\"1\" class=\"dataframe\">\n",
              "  <thead>\n",
              "    <tr style=\"text-align: right;\">\n",
              "      <th></th>\n",
              "      <th>frequency</th>\n",
              "    </tr>\n",
              "  </thead>\n",
              "  <tbody>\n",
              "    <tr>\n",
              "      <th>frequency</th>\n",
              "      <td>1.0</td>\n",
              "    </tr>\n",
              "  </tbody>\n",
              "</table>\n",
              "</div>"
            ],
            "text/plain": [
              "           frequency\n",
              "frequency        1.0"
            ]
          },
          "metadata": {
            "tags": []
          },
          "execution_count": 12
        }
      ]
    },
    {
      "cell_type": "code",
      "metadata": {
        "id": "CCRCWMbjCvZ4",
        "colab_type": "code",
        "colab": {}
      },
      "source": [
        "\n",
        "freqdata['words'] =freqdata['words'].astype('category').cat.codes\n"
      ],
      "execution_count": 0,
      "outputs": []
    },
    {
      "cell_type": "code",
      "metadata": {
        "id": "j_1kFz93O6YK",
        "colab_type": "code",
        "colab": {
          "base_uri": "https://localhost:8080/",
          "height": 112
        },
        "outputId": "1c1eb070-aacc-4274-89af-5bcb2603958a"
      },
      "source": [
        "freqdata.corr()"
      ],
      "execution_count": 15,
      "outputs": [
        {
          "output_type": "execute_result",
          "data": {
            "text/html": [
              "<div>\n",
              "<style scoped>\n",
              "    .dataframe tbody tr th:only-of-type {\n",
              "        vertical-align: middle;\n",
              "    }\n",
              "\n",
              "    .dataframe tbody tr th {\n",
              "        vertical-align: top;\n",
              "    }\n",
              "\n",
              "    .dataframe thead th {\n",
              "        text-align: right;\n",
              "    }\n",
              "</style>\n",
              "<table border=\"1\" class=\"dataframe\">\n",
              "  <thead>\n",
              "    <tr style=\"text-align: right;\">\n",
              "      <th></th>\n",
              "      <th>words</th>\n",
              "      <th>frequency</th>\n",
              "    </tr>\n",
              "  </thead>\n",
              "  <tbody>\n",
              "    <tr>\n",
              "      <th>words</th>\n",
              "      <td>1.000000</td>\n",
              "      <td>-0.023917</td>\n",
              "    </tr>\n",
              "    <tr>\n",
              "      <th>frequency</th>\n",
              "      <td>-0.023917</td>\n",
              "      <td>1.000000</td>\n",
              "    </tr>\n",
              "  </tbody>\n",
              "</table>\n",
              "</div>"
            ],
            "text/plain": [
              "              words  frequency\n",
              "words      1.000000  -0.023917\n",
              "frequency -0.023917   1.000000"
            ]
          },
          "metadata": {
            "tags": []
          },
          "execution_count": 15
        }
      ]
    },
    {
      "cell_type": "code",
      "metadata": {
        "id": "s0-hozZ9PwtB",
        "colab_type": "code",
        "colab": {
          "base_uri": "https://localhost:8080/",
          "height": 363
        },
        "outputId": "956eb6dd-8425-4708-f56e-798c18553f03"
      },
      "source": [
        "freqdata1 =pd.read_csv('sample_data/freqheatmap.csv')\n",
        "freqdata1.head(10)"
      ],
      "execution_count": 27,
      "outputs": [
        {
          "output_type": "execute_result",
          "data": {
            "text/html": [
              "<div>\n",
              "<style scoped>\n",
              "    .dataframe tbody tr th:only-of-type {\n",
              "        vertical-align: middle;\n",
              "    }\n",
              "\n",
              "    .dataframe tbody tr th {\n",
              "        vertical-align: top;\n",
              "    }\n",
              "\n",
              "    .dataframe thead th {\n",
              "        text-align: right;\n",
              "    }\n",
              "</style>\n",
              "<table border=\"1\" class=\"dataframe\">\n",
              "  <thead>\n",
              "    <tr style=\"text-align: right;\">\n",
              "      <th></th>\n",
              "      <th>Highfreqwords</th>\n",
              "      <th>frequency</th>\n",
              "      <th>Impact_words</th>\n",
              "      <th>Impactwordsfreq</th>\n",
              "      <th>Brands</th>\n",
              "    </tr>\n",
              "  </thead>\n",
              "  <tbody>\n",
              "    <tr>\n",
              "      <th>0</th>\n",
              "      <td>driverless</td>\n",
              "      <td>584</td>\n",
              "      <td>test</td>\n",
              "      <td>29</td>\n",
              "      <td>tesla</td>\n",
              "    </tr>\n",
              "    <tr>\n",
              "      <th>1</th>\n",
              "      <td>cars</td>\n",
              "      <td>408</td>\n",
              "      <td>need</td>\n",
              "      <td>24</td>\n",
              "      <td>toyota</td>\n",
              "    </tr>\n",
              "    <tr>\n",
              "      <th>2</th>\n",
              "      <td>autonomous</td>\n",
              "      <td>217</td>\n",
              "      <td>think</td>\n",
              "      <td>23</td>\n",
              "      <td>Nissan</td>\n",
              "    </tr>\n",
              "    <tr>\n",
              "      <th>3</th>\n",
              "      <td>google</td>\n",
              "      <td>150</td>\n",
              "      <td>gets</td>\n",
              "      <td>23</td>\n",
              "      <td>NaN</td>\n",
              "    </tr>\n",
              "    <tr>\n",
              "      <th>4</th>\n",
              "      <td>vehicle</td>\n",
              "      <td>107</td>\n",
              "      <td>mastering</td>\n",
              "      <td>22</td>\n",
              "      <td>NaN</td>\n",
              "    </tr>\n",
              "    <tr>\n",
              "      <th>5</th>\n",
              "      <td>google's</td>\n",
              "      <td>52</td>\n",
              "      <td>like</td>\n",
              "      <td>21</td>\n",
              "      <td>NaN</td>\n",
              "    </tr>\n",
              "    <tr>\n",
              "      <th>6</th>\n",
              "      <td>drive</td>\n",
              "      <td>41</td>\n",
              "      <td>want</td>\n",
              "      <td>18</td>\n",
              "      <td>NaN</td>\n",
              "    </tr>\n",
              "    <tr>\n",
              "      <th>7</th>\n",
              "      <td>first</td>\n",
              "      <td>38</td>\n",
              "      <td>reshape</td>\n",
              "      <td>18</td>\n",
              "      <td>NaN</td>\n",
              "    </tr>\n",
              "    <tr>\n",
              "      <th>8</th>\n",
              "      <td>driving</td>\n",
              "      <td>35</td>\n",
              "      <td>worth</td>\n",
              "      <td>17</td>\n",
              "      <td>NaN</td>\n",
              "    </tr>\n",
              "    <tr>\n",
              "      <th>9</th>\n",
              "      <td>future</td>\n",
              "      <td>32</td>\n",
              "      <td>next</td>\n",
              "      <td>16</td>\n",
              "      <td>NaN</td>\n",
              "    </tr>\n",
              "  </tbody>\n",
              "</table>\n",
              "</div>"
            ],
            "text/plain": [
              "  Highfreqwords  frequency Impact_words  Impactwordsfreq  Brands\n",
              "0    driverless        584         test               29   tesla\n",
              "1          cars        408         need               24  toyota\n",
              "2    autonomous        217        think               23  Nissan\n",
              "3        google        150         gets               23     NaN\n",
              "4       vehicle        107    mastering               22     NaN\n",
              "5      google's         52         like               21     NaN\n",
              "6         drive         41         want               18     NaN\n",
              "7         first         38      reshape               18     NaN\n",
              "8       driving         35        worth               17     NaN\n",
              "9        future         32         next               16     NaN"
            ]
          },
          "metadata": {
            "tags": []
          },
          "execution_count": 27
        }
      ]
    },
    {
      "cell_type": "code",
      "metadata": {
        "id": "YfdBaMuGQLTP",
        "colab_type": "code",
        "colab": {}
      },
      "source": [
        ""
      ],
      "execution_count": 0,
      "outputs": []
    },
    {
      "cell_type": "code",
      "metadata": {
        "colab_type": "code",
        "id": "PwNvOTBWSKGz",
        "colab": {}
      },
      "source": [
        "\n",
        "freqdata1['Highfreqwords'] =freqdata1['Highfreqwords'].astype('category').cat.codes\n",
        "freqdata1['Impact_words'] =freqdata1['Impact_words'].astype('category').cat.codes\n",
        "freqdata1['Brands'] =freqdata1['Brands'].astype('category').cat.codes\n",
        "\n"
      ],
      "execution_count": 0,
      "outputs": []
    },
    {
      "cell_type": "code",
      "metadata": {
        "id": "B9xbadBdP3Xv",
        "colab_type": "code",
        "colab": {
          "base_uri": "https://localhost:8080/",
          "height": 206
        },
        "outputId": "eff99d21-a4b8-4a12-aafe-8e57651ca350"
      },
      "source": [
        "freqdata1.corr()"
      ],
      "execution_count": 34,
      "outputs": [
        {
          "output_type": "execute_result",
          "data": {
            "text/html": [
              "<div>\n",
              "<style scoped>\n",
              "    .dataframe tbody tr th:only-of-type {\n",
              "        vertical-align: middle;\n",
              "    }\n",
              "\n",
              "    .dataframe tbody tr th {\n",
              "        vertical-align: top;\n",
              "    }\n",
              "\n",
              "    .dataframe thead th {\n",
              "        text-align: right;\n",
              "    }\n",
              "</style>\n",
              "<table border=\"1\" class=\"dataframe\">\n",
              "  <thead>\n",
              "    <tr style=\"text-align: right;\">\n",
              "      <th></th>\n",
              "      <th>Highfreqwords</th>\n",
              "      <th>frequency</th>\n",
              "      <th>Impact_words</th>\n",
              "      <th>Impactwordsfreq</th>\n",
              "      <th>Brands</th>\n",
              "    </tr>\n",
              "  </thead>\n",
              "  <tbody>\n",
              "    <tr>\n",
              "      <th>Highfreqwords</th>\n",
              "      <td>1.000000</td>\n",
              "      <td>-0.258600</td>\n",
              "      <td>-0.406593</td>\n",
              "      <td>0.148108</td>\n",
              "      <td>-0.420255</td>\n",
              "    </tr>\n",
              "    <tr>\n",
              "      <th>frequency</th>\n",
              "      <td>-0.258600</td>\n",
              "      <td>1.000000</td>\n",
              "      <td>0.161609</td>\n",
              "      <td>0.772856</td>\n",
              "      <td>0.891611</td>\n",
              "    </tr>\n",
              "    <tr>\n",
              "      <th>Impact_words</th>\n",
              "      <td>-0.406593</td>\n",
              "      <td>0.161609</td>\n",
              "      <td>1.000000</td>\n",
              "      <td>0.214756</td>\n",
              "      <td>0.154831</td>\n",
              "    </tr>\n",
              "    <tr>\n",
              "      <th>Impactwordsfreq</th>\n",
              "      <td>0.148108</td>\n",
              "      <td>0.772856</td>\n",
              "      <td>0.214756</td>\n",
              "      <td>1.000000</td>\n",
              "      <td>0.608834</td>\n",
              "    </tr>\n",
              "    <tr>\n",
              "      <th>Brands</th>\n",
              "      <td>-0.420255</td>\n",
              "      <td>0.891611</td>\n",
              "      <td>0.154831</td>\n",
              "      <td>0.608834</td>\n",
              "      <td>1.000000</td>\n",
              "    </tr>\n",
              "  </tbody>\n",
              "</table>\n",
              "</div>"
            ],
            "text/plain": [
              "                 Highfreqwords  frequency  ...  Impactwordsfreq    Brands\n",
              "Highfreqwords         1.000000  -0.258600  ...         0.148108 -0.420255\n",
              "frequency            -0.258600   1.000000  ...         0.772856  0.891611\n",
              "Impact_words         -0.406593   0.161609  ...         0.214756  0.154831\n",
              "Impactwordsfreq       0.148108   0.772856  ...         1.000000  0.608834\n",
              "Brands               -0.420255   0.891611  ...         0.608834  1.000000\n",
              "\n",
              "[5 rows x 5 columns]"
            ]
          },
          "metadata": {
            "tags": []
          },
          "execution_count": 34
        }
      ]
    },
    {
      "cell_type": "code",
      "metadata": {
        "id": "OzNtOCUGWnOh",
        "colab_type": "code",
        "colab": {
          "base_uri": "https://localhost:8080/",
          "height": 361
        },
        "outputId": "f7e5fc91-8b73-43e3-f1c6-e0c37983a82c"
      },
      "source": [
        "sns.heatmap(freqdata1.corr(),annot=True)"
      ],
      "execution_count": 35,
      "outputs": [
        {
          "output_type": "execute_result",
          "data": {
            "text/plain": [
              "<matplotlib.axes._subplots.AxesSubplot at 0x7f47d458deb8>"
            ]
          },
          "metadata": {
            "tags": []
          },
          "execution_count": 35
        },
        {
          "output_type": "display_data",
          "data": {
            "image/png": "[encoded data removed]",
            "text/plain": [
              "<Figure size 432x288 with 2 Axes>"
            ]
          },
          "metadata": {
            "tags": []
          }
        }
      ]
    }
  ]
}