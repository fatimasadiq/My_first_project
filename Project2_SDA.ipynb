{
  "nbformat": 4,
  "nbformat_minor": 0,
  "metadata": {
    "colab": {
      "name": "Untitled",
      "provenance": [],
      "collapsed_sections": [],
      "authorship_tag": "ABX9TyP9vyA96AoB84mrYlK84OqF",
      "include_colab_link": true
    },
    "kernelspec": {
      "name": "python3",
      "display_name": "Python 3"
    }
  },
  "cells": [
    {
      "cell_type": "markdown",
      "metadata": {
        "id": "view-in-github",
        "colab_type": "text"
      },
      "source": [
        "<a href=\"https://colab.research.google.com/github/fatimasadiq/My_first_project/blob/master/Project2_SDA.ipynb\" target=\"_parent\"><img src=\"https://colab.research.google.com/assets/colab-badge.svg\" alt=\"Open In Colab\"/></a>"
      ]
    },
    {
      "cell_type": "markdown",
      "metadata": {
        "id": "N1YGcaARzoTw",
        "colab_type": "text"
      },
      "source": [
        "**Baysian Linear Regression**\n",
        "In statistics, Bayesian linear regression is an approach to linear regression in which the statistical analysis is undertaken within the context of Bayesian inference.\n",
        "The model for Bayesian Linear Regression with the response sampled from a normal distribution is:\n",
        "# ![image.png](data:image/png;base64,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)"
      ]
    },
    {
      "cell_type": "markdown",
      "metadata": {
        "id": "sA5tCq1QZm70",
        "colab_type": "text"
      },
      "source": [
        "In words, our response datapoints are sampled from a multivariate normal distribution that has a mean equal to the product of the coefficients and the predictors, , and a variance of\n",
        ". Here, refers to the identity matrix, which is necessary because the distribution is multivariate."
      ]
    },
    {
      "cell_type": "code",
      "metadata": {
        "id": "6qJ3hJdhUReI",
        "colab_type": "code",
        "colab": {
          "base_uri": "https://localhost:8080/",
          "height": 146
        },
        "outputId": "9e2587ca-9e6b-4d7d-b01b-19d3d90e2414"
      },
      "source": [
        "!pip uninstall arviz\n",
        "!pip uninstall pymc3"
      ],
      "execution_count": 227,
      "outputs": [
        {
          "output_type": "stream",
          "text": [
            "\u001b[33mWARNING: Skipping arviz as it is not installed.\u001b[0m\n",
            "Uninstalling pymc3-3.7:\n",
            "  Would remove:\n",
            "    /usr/local/lib/python3.6/dist-packages/pymc3-3.7.dist-info/*\n",
            "    /usr/local/lib/python3.6/dist-packages/pymc3/*\n",
            "Proceed (y/n)? y\n",
            "  Successfully uninstalled pymc3-3.7\n"
          ],
          "name": "stdout"
        }
      ]
    },
    {
      "cell_type": "code",
      "metadata": {
        "id": "o5TnQCtgU0AI",
        "colab_type": "code",
        "colab": {
          "base_uri": "https://localhost:8080/",
          "height": 476
        },
        "outputId": "bcfa7308-419f-4651-d2dc-61b6e5a69cf0"
      },
      "source": [
        "!pip install arviz"
      ],
      "execution_count": 228,
      "outputs": [
        {
          "output_type": "stream",
          "text": [
            "Collecting arviz\n",
            "  Using cached https://files.pythonhosted.org/packages/6c/23/73ae3b88a6837fa5a162d984acabfd2e75dc847ed67e5690aa44d02f491a/arviz-0.7.0-py3-none-any.whl\n",
            "Requirement already satisfied: scipy>=0.19 in /usr/local/lib/python3.6/dist-packages (from arviz) (1.4.1)\n",
            "Requirement already satisfied: xarray>=0.11 in /usr/local/lib/python3.6/dist-packages (from arviz) (0.15.1)\n",
            "Requirement already satisfied: pandas>=0.23 in /usr/local/lib/python3.6/dist-packages (from arviz) (1.0.3)\n",
            "Requirement already satisfied: netcdf4 in /usr/local/lib/python3.6/dist-packages (from arviz) (1.5.3)\n",
            "Requirement already satisfied: numpy>=1.12 in /usr/local/lib/python3.6/dist-packages (from arviz) (1.18.2)\n",
            "Requirement already satisfied: matplotlib>=3.0 in /usr/local/lib/python3.6/dist-packages (from arviz) (3.2.1)\n",
            "Requirement already satisfied: packaging in /usr/local/lib/python3.6/dist-packages (from arviz) (20.3)\n",
            "Requirement already satisfied: setuptools>=41.2 in /usr/local/lib/python3.6/dist-packages (from xarray>=0.11->arviz) (46.1.3)\n",
            "Requirement already satisfied: pytz>=2017.2 in /usr/local/lib/python3.6/dist-packages (from pandas>=0.23->arviz) (2018.9)\n",
            "Requirement already satisfied: python-dateutil>=2.6.1 in /usr/local/lib/python3.6/dist-packages (from pandas>=0.23->arviz) (2.8.1)\n",
            "Requirement already satisfied: cftime in /usr/local/lib/python3.6/dist-packages (from netcdf4->arviz) (1.1.1.2)\n",
            "Requirement already satisfied: cycler>=0.10 in /usr/local/lib/python3.6/dist-packages (from matplotlib>=3.0->arviz) (0.10.0)\n",
            "Requirement already satisfied: pyparsing!=2.0.4,!=2.1.2,!=2.1.6,>=2.0.1 in /usr/local/lib/python3.6/dist-packages (from matplotlib>=3.0->arviz) (2.4.7)\n",
            "Requirement already satisfied: kiwisolver>=1.0.1 in /usr/local/lib/python3.6/dist-packages (from matplotlib>=3.0->arviz) (1.2.0)\n",
            "Requirement already satisfied: six in /usr/local/lib/python3.6/dist-packages (from packaging->arviz) (1.12.0)\n",
            "Installing collected packages: arviz\n",
            "Successfully installed arviz-0.7.0\n"
          ],
          "name": "stdout"
        },
        {
          "output_type": "display_data",
          "data": {
            "application/vnd.colab-display-data+json": {
              "pip_warning": {
                "packages": [
                  "arviz"
                ]
              }
            }
          },
          "metadata": {
            "tags": []
          }
        }
      ]
    },
    {
      "cell_type": "code",
      "metadata": {
        "id": "_Yk4FdRBVA1H",
        "colab_type": "code",
        "colab": {}
      },
      "source": [
        ""
      ],
      "execution_count": 0,
      "outputs": []
    },
    {
      "cell_type": "code",
      "metadata": {
        "id": "8-TLsYN7zhmZ",
        "colab_type": "code",
        "colab": {}
      },
      "source": [
        "import pandas as pd\n",
        "import matplotlib.pyplot as plt\n",
        "import numpy as np\n",
        "\n",
        "from pandas.api.types import CategoricalDtype\n",
        "from plotnine import *\n",
        "\n",
        "\n",
        "\n"
      ],
      "execution_count": 0,
      "outputs": []
    },
    {
      "cell_type": "code",
      "metadata": {
        "colab_type": "code",
        "id": "JOS5wXV2FCLa",
        "colab": {
          "base_uri": "https://localhost:8080/",
          "height": 35
        },
        "outputId": "c5487ac6-fa3f-41a7-abdb-e2d5df6e84b0"
      },
      "source": [
        "import sklearn\n",
        "from sklearn.model_selection import train_test_split\n",
        "import scipy\n",
        "#import pymc3 as pm\n",
        "#print('Running on PyMC3 v{}'.format(pm.__version__))"
      ],
      "execution_count": 224,
      "outputs": [
        {
          "output_type": "stream",
          "text": [
            "Running on PyMC3 v3.7\n"
          ],
          "name": "stdout"
        }
      ]
    },
    {
      "cell_type": "code",
      "metadata": {
        "id": "lhwHBLOeb0CL",
        "colab_type": "code",
        "outputId": "550d8ab6-7a05-41d7-911b-4603d5417ffb",
        "colab": {
          "base_uri": "https://localhost:8080/",
          "height": 226
        }
      },
      "source": [
        "#Data Reading and Examining\n",
        "data=pd.read_csv('data/student-mat.csv')\n",
        "data.head()\n",
        "# our main target is G3 which is the final grade- we have to predict it"
      ],
      "execution_count": 6,
      "outputs": [
        {
          "output_type": "execute_result",
          "data": {
            "text/html": [
              "<div>\n",
              "<style scoped>\n",
              "    .dataframe tbody tr th:only-of-type {\n",
              "        vertical-align: middle;\n",
              "    }\n",
              "\n",
              "    .dataframe tbody tr th {\n",
              "        vertical-align: top;\n",
              "    }\n",
              "\n",
              "    .dataframe thead th {\n",
              "        text-align: right;\n",
              "    }\n",
              "</style>\n",
              "<table border=\"1\" class=\"dataframe\">\n",
              "  <thead>\n",
              "    <tr style=\"text-align: right;\">\n",
              "      <th></th>\n",
              "      <th>school</th>\n",
              "      <th>sex</th>\n",
              "      <th>age</th>\n",
              "      <th>address</th>\n",
              "      <th>famsize</th>\n",
              "      <th>Pstatus</th>\n",
              "      <th>Medu</th>\n",
              "      <th>Fedu</th>\n",
              "      <th>Mjob</th>\n",
              "      <th>Fjob</th>\n",
              "      <th>reason</th>\n",
              "      <th>guardian</th>\n",
              "      <th>traveltime</th>\n",
              "      <th>studytime</th>\n",
              "      <th>failures</th>\n",
              "      <th>schoolsup</th>\n",
              "      <th>famsup</th>\n",
              "      <th>paid</th>\n",
              "      <th>activities</th>\n",
              "      <th>nursery</th>\n",
              "      <th>higher</th>\n",
              "      <th>internet</th>\n",
              "      <th>romantic</th>\n",
              "      <th>famrel</th>\n",
              "      <th>freetime</th>\n",
              "      <th>goout</th>\n",
              "      <th>Dalc</th>\n",
              "      <th>Walc</th>\n",
              "      <th>health</th>\n",
              "      <th>absences</th>\n",
              "      <th>G1</th>\n",
              "      <th>G2</th>\n",
              "      <th>G3</th>\n",
              "    </tr>\n",
              "  </thead>\n",
              "  <tbody>\n",
              "    <tr>\n",
              "      <th>0</th>\n",
              "      <td>GP</td>\n",
              "      <td>F</td>\n",
              "      <td>18</td>\n",
              "      <td>U</td>\n",
              "      <td>GT3</td>\n",
              "      <td>A</td>\n",
              "      <td>4</td>\n",
              "      <td>4</td>\n",
              "      <td>at_home</td>\n",
              "      <td>teacher</td>\n",
              "      <td>course</td>\n",
              "      <td>mother</td>\n",
              "      <td>2</td>\n",
              "      <td>2</td>\n",
              "      <td>0</td>\n",
              "      <td>yes</td>\n",
              "      <td>no</td>\n",
              "      <td>no</td>\n",
              "      <td>no</td>\n",
              "      <td>yes</td>\n",
              "      <td>yes</td>\n",
              "      <td>no</td>\n",
              "      <td>no</td>\n",
              "      <td>4</td>\n",
              "      <td>3</td>\n",
              "      <td>4</td>\n",
              "      <td>1</td>\n",
              "      <td>1</td>\n",
              "      <td>3</td>\n",
              "      <td>6</td>\n",
              "      <td>5</td>\n",
              "      <td>6</td>\n",
              "      <td>6</td>\n",
              "    </tr>\n",
              "    <tr>\n",
              "      <th>1</th>\n",
              "      <td>GP</td>\n",
              "      <td>F</td>\n",
              "      <td>17</td>\n",
              "      <td>U</td>\n",
              "      <td>GT3</td>\n",
              "      <td>T</td>\n",
              "      <td>1</td>\n",
              "      <td>1</td>\n",
              "      <td>at_home</td>\n",
              "      <td>other</td>\n",
              "      <td>course</td>\n",
              "      <td>father</td>\n",
              "      <td>1</td>\n",
              "      <td>2</td>\n",
              "      <td>0</td>\n",
              "      <td>no</td>\n",
              "      <td>yes</td>\n",
              "      <td>no</td>\n",
              "      <td>no</td>\n",
              "      <td>no</td>\n",
              "      <td>yes</td>\n",
              "      <td>yes</td>\n",
              "      <td>no</td>\n",
              "      <td>5</td>\n",
              "      <td>3</td>\n",
              "      <td>3</td>\n",
              "      <td>1</td>\n",
              "      <td>1</td>\n",
              "      <td>3</td>\n",
              "      <td>4</td>\n",
              "      <td>5</td>\n",
              "      <td>5</td>\n",
              "      <td>6</td>\n",
              "    </tr>\n",
              "    <tr>\n",
              "      <th>2</th>\n",
              "      <td>GP</td>\n",
              "      <td>F</td>\n",
              "      <td>15</td>\n",
              "      <td>U</td>\n",
              "      <td>LE3</td>\n",
              "      <td>T</td>\n",
              "      <td>1</td>\n",
              "      <td>1</td>\n",
              "      <td>at_home</td>\n",
              "      <td>other</td>\n",
              "      <td>other</td>\n",
              "      <td>mother</td>\n",
              "      <td>1</td>\n",
              "      <td>2</td>\n",
              "      <td>3</td>\n",
              "      <td>yes</td>\n",
              "      <td>no</td>\n",
              "      <td>yes</td>\n",
              "      <td>no</td>\n",
              "      <td>yes</td>\n",
              "      <td>yes</td>\n",
              "      <td>yes</td>\n",
              "      <td>no</td>\n",
              "      <td>4</td>\n",
              "      <td>3</td>\n",
              "      <td>2</td>\n",
              "      <td>2</td>\n",
              "      <td>3</td>\n",
              "      <td>3</td>\n",
              "      <td>10</td>\n",
              "      <td>7</td>\n",
              "      <td>8</td>\n",
              "      <td>10</td>\n",
              "    </tr>\n",
              "    <tr>\n",
              "      <th>3</th>\n",
              "      <td>GP</td>\n",
              "      <td>F</td>\n",
              "      <td>15</td>\n",
              "      <td>U</td>\n",
              "      <td>GT3</td>\n",
              "      <td>T</td>\n",
              "      <td>4</td>\n",
              "      <td>2</td>\n",
              "      <td>health</td>\n",
              "      <td>services</td>\n",
              "      <td>home</td>\n",
              "      <td>mother</td>\n",
              "      <td>1</td>\n",
              "      <td>3</td>\n",
              "      <td>0</td>\n",
              "      <td>no</td>\n",
              "      <td>yes</td>\n",
              "      <td>yes</td>\n",
              "      <td>yes</td>\n",
              "      <td>yes</td>\n",
              "      <td>yes</td>\n",
              "      <td>yes</td>\n",
              "      <td>yes</td>\n",
              "      <td>3</td>\n",
              "      <td>2</td>\n",
              "      <td>2</td>\n",
              "      <td>1</td>\n",
              "      <td>1</td>\n",
              "      <td>5</td>\n",
              "      <td>2</td>\n",
              "      <td>15</td>\n",
              "      <td>14</td>\n",
              "      <td>15</td>\n",
              "    </tr>\n",
              "    <tr>\n",
              "      <th>4</th>\n",
              "      <td>GP</td>\n",
              "      <td>F</td>\n",
              "      <td>16</td>\n",
              "      <td>U</td>\n",
              "      <td>GT3</td>\n",
              "      <td>T</td>\n",
              "      <td>3</td>\n",
              "      <td>3</td>\n",
              "      <td>other</td>\n",
              "      <td>other</td>\n",
              "      <td>home</td>\n",
              "      <td>father</td>\n",
              "      <td>1</td>\n",
              "      <td>2</td>\n",
              "      <td>0</td>\n",
              "      <td>no</td>\n",
              "      <td>yes</td>\n",
              "      <td>yes</td>\n",
              "      <td>no</td>\n",
              "      <td>yes</td>\n",
              "      <td>yes</td>\n",
              "      <td>no</td>\n",
              "      <td>no</td>\n",
              "      <td>4</td>\n",
              "      <td>3</td>\n",
              "      <td>2</td>\n",
              "      <td>1</td>\n",
              "      <td>2</td>\n",
              "      <td>5</td>\n",
              "      <td>4</td>\n",
              "      <td>6</td>\n",
              "      <td>10</td>\n",
              "      <td>10</td>\n",
              "    </tr>\n",
              "  </tbody>\n",
              "</table>\n",
              "</div>"
            ],
            "text/plain": [
              "  school sex  age address famsize Pstatus  ...  Walc  health absences  G1  G2  G3\n",
              "0     GP   F   18       U     GT3       A  ...     1       3        6   5   6   6\n",
              "1     GP   F   17       U     GT3       T  ...     1       3        4   5   5   6\n",
              "2     GP   F   15       U     LE3       T  ...     3       3       10   7   8  10\n",
              "3     GP   F   15       U     GT3       T  ...     1       5        2  15  14  15\n",
              "4     GP   F   16       U     GT3       T  ...     2       5        4   6  10  10\n",
              "\n",
              "[5 rows x 33 columns]"
            ]
          },
          "metadata": {
            "tags": []
          },
          "execution_count": 6
        }
      ]
    },
    {
      "cell_type": "code",
      "metadata": {
        "id": "nQeZSl90cy6z",
        "colab_type": "code",
        "colab": {
          "base_uri": "https://localhost:8080/",
          "height": 752
        },
        "outputId": "c4c0abc6-ea3e-4475-ef8b-3fddde01d8f9"
      },
      "source": [
        "data.info()"
      ],
      "execution_count": 10,
      "outputs": [
        {
          "output_type": "stream",
          "text": [
            "<class 'pandas.core.frame.DataFrame'>\n",
            "RangeIndex: 395 entries, 0 to 394\n",
            "Data columns (total 33 columns):\n",
            " #   Column      Non-Null Count  Dtype \n",
            "---  ------      --------------  ----- \n",
            " 0   school      395 non-null    object\n",
            " 1   sex         395 non-null    object\n",
            " 2   age         395 non-null    int64 \n",
            " 3   address     395 non-null    object\n",
            " 4   famsize     395 non-null    object\n",
            " 5   Pstatus     395 non-null    object\n",
            " 6   Medu        395 non-null    int64 \n",
            " 7   Fedu        395 non-null    int64 \n",
            " 8   Mjob        395 non-null    object\n",
            " 9   Fjob        395 non-null    object\n",
            " 10  reason      395 non-null    object\n",
            " 11  guardian    395 non-null    object\n",
            " 12  traveltime  395 non-null    int64 \n",
            " 13  studytime   395 non-null    int64 \n",
            " 14  failures    395 non-null    int64 \n",
            " 15  schoolsup   395 non-null    object\n",
            " 16  famsup      395 non-null    object\n",
            " 17  paid        395 non-null    object\n",
            " 18  activities  395 non-null    object\n",
            " 19  nursery     395 non-null    object\n",
            " 20  higher      395 non-null    object\n",
            " 21  internet    395 non-null    object\n",
            " 22  romantic    395 non-null    object\n",
            " 23  famrel      395 non-null    int64 \n",
            " 24  freetime    395 non-null    int64 \n",
            " 25  goout       395 non-null    int64 \n",
            " 26  Dalc        395 non-null    int64 \n",
            " 27  Walc        395 non-null    int64 \n",
            " 28  health      395 non-null    int64 \n",
            " 29  absences    395 non-null    int64 \n",
            " 30  G1          395 non-null    int64 \n",
            " 31  G2          395 non-null    int64 \n",
            " 32  G3          395 non-null    int64 \n",
            "dtypes: int64(16), object(17)\n",
            "memory usage: 102.0+ KB\n"
          ],
          "name": "stdout"
        }
      ]
    },
    {
      "cell_type": "code",
      "metadata": {
        "id": "U2JQlyXlUFs5",
        "colab_type": "code",
        "colab": {
          "base_uri": "https://localhost:8080/",
          "height": 320
        },
        "outputId": "7400ddc6-a8bf-4284-8554-22ce7125fef4"
      },
      "source": [
        "#View statistical details like percentile,mean,std etc of a data frame.\n",
        "data.describe()"
      ],
      "execution_count": 7,
      "outputs": [
        {
          "output_type": "execute_result",
          "data": {
            "text/html": [
              "<div>\n",
              "<style scoped>\n",
              "    .dataframe tbody tr th:only-of-type {\n",
              "        vertical-align: middle;\n",
              "    }\n",
              "\n",
              "    .dataframe tbody tr th {\n",
              "        vertical-align: top;\n",
              "    }\n",
              "\n",
              "    .dataframe thead th {\n",
              "        text-align: right;\n",
              "    }\n",
              "</style>\n",
              "<table border=\"1\" class=\"dataframe\">\n",
              "  <thead>\n",
              "    <tr style=\"text-align: right;\">\n",
              "      <th></th>\n",
              "      <th>age</th>\n",
              "      <th>Medu</th>\n",
              "      <th>Fedu</th>\n",
              "      <th>traveltime</th>\n",
              "      <th>studytime</th>\n",
              "      <th>failures</th>\n",
              "      <th>famrel</th>\n",
              "      <th>freetime</th>\n",
              "      <th>goout</th>\n",
              "      <th>Dalc</th>\n",
              "      <th>Walc</th>\n",
              "      <th>health</th>\n",
              "      <th>absences</th>\n",
              "      <th>G1</th>\n",
              "      <th>G2</th>\n",
              "      <th>G3</th>\n",
              "    </tr>\n",
              "  </thead>\n",
              "  <tbody>\n",
              "    <tr>\n",
              "      <th>count</th>\n",
              "      <td>395.000000</td>\n",
              "      <td>395.000000</td>\n",
              "      <td>395.000000</td>\n",
              "      <td>395.000000</td>\n",
              "      <td>395.000000</td>\n",
              "      <td>395.000000</td>\n",
              "      <td>395.000000</td>\n",
              "      <td>395.000000</td>\n",
              "      <td>395.000000</td>\n",
              "      <td>395.000000</td>\n",
              "      <td>395.000000</td>\n",
              "      <td>395.000000</td>\n",
              "      <td>395.000000</td>\n",
              "      <td>395.000000</td>\n",
              "      <td>395.000000</td>\n",
              "      <td>395.000000</td>\n",
              "    </tr>\n",
              "    <tr>\n",
              "      <th>mean</th>\n",
              "      <td>16.696203</td>\n",
              "      <td>2.749367</td>\n",
              "      <td>2.521519</td>\n",
              "      <td>1.448101</td>\n",
              "      <td>2.035443</td>\n",
              "      <td>0.334177</td>\n",
              "      <td>3.944304</td>\n",
              "      <td>3.235443</td>\n",
              "      <td>3.108861</td>\n",
              "      <td>1.481013</td>\n",
              "      <td>2.291139</td>\n",
              "      <td>3.554430</td>\n",
              "      <td>5.708861</td>\n",
              "      <td>10.908861</td>\n",
              "      <td>10.713924</td>\n",
              "      <td>10.415190</td>\n",
              "    </tr>\n",
              "    <tr>\n",
              "      <th>std</th>\n",
              "      <td>1.276043</td>\n",
              "      <td>1.094735</td>\n",
              "      <td>1.088201</td>\n",
              "      <td>0.697505</td>\n",
              "      <td>0.839240</td>\n",
              "      <td>0.743651</td>\n",
              "      <td>0.896659</td>\n",
              "      <td>0.998862</td>\n",
              "      <td>1.113278</td>\n",
              "      <td>0.890741</td>\n",
              "      <td>1.287897</td>\n",
              "      <td>1.390303</td>\n",
              "      <td>8.003096</td>\n",
              "      <td>3.319195</td>\n",
              "      <td>3.761505</td>\n",
              "      <td>4.581443</td>\n",
              "    </tr>\n",
              "    <tr>\n",
              "      <th>min</th>\n",
              "      <td>15.000000</td>\n",
              "      <td>0.000000</td>\n",
              "      <td>0.000000</td>\n",
              "      <td>1.000000</td>\n",
              "      <td>1.000000</td>\n",
              "      <td>0.000000</td>\n",
              "      <td>1.000000</td>\n",
              "      <td>1.000000</td>\n",
              "      <td>1.000000</td>\n",
              "      <td>1.000000</td>\n",
              "      <td>1.000000</td>\n",
              "      <td>1.000000</td>\n",
              "      <td>0.000000</td>\n",
              "      <td>3.000000</td>\n",
              "      <td>0.000000</td>\n",
              "      <td>0.000000</td>\n",
              "    </tr>\n",
              "    <tr>\n",
              "      <th>25%</th>\n",
              "      <td>16.000000</td>\n",
              "      <td>2.000000</td>\n",
              "      <td>2.000000</td>\n",
              "      <td>1.000000</td>\n",
              "      <td>1.000000</td>\n",
              "      <td>0.000000</td>\n",
              "      <td>4.000000</td>\n",
              "      <td>3.000000</td>\n",
              "      <td>2.000000</td>\n",
              "      <td>1.000000</td>\n",
              "      <td>1.000000</td>\n",
              "      <td>3.000000</td>\n",
              "      <td>0.000000</td>\n",
              "      <td>8.000000</td>\n",
              "      <td>9.000000</td>\n",
              "      <td>8.000000</td>\n",
              "    </tr>\n",
              "    <tr>\n",
              "      <th>50%</th>\n",
              "      <td>17.000000</td>\n",
              "      <td>3.000000</td>\n",
              "      <td>2.000000</td>\n",
              "      <td>1.000000</td>\n",
              "      <td>2.000000</td>\n",
              "      <td>0.000000</td>\n",
              "      <td>4.000000</td>\n",
              "      <td>3.000000</td>\n",
              "      <td>3.000000</td>\n",
              "      <td>1.000000</td>\n",
              "      <td>2.000000</td>\n",
              "      <td>4.000000</td>\n",
              "      <td>4.000000</td>\n",
              "      <td>11.000000</td>\n",
              "      <td>11.000000</td>\n",
              "      <td>11.000000</td>\n",
              "    </tr>\n",
              "    <tr>\n",
              "      <th>75%</th>\n",
              "      <td>18.000000</td>\n",
              "      <td>4.000000</td>\n",
              "      <td>3.000000</td>\n",
              "      <td>2.000000</td>\n",
              "      <td>2.000000</td>\n",
              "      <td>0.000000</td>\n",
              "      <td>5.000000</td>\n",
              "      <td>4.000000</td>\n",
              "      <td>4.000000</td>\n",
              "      <td>2.000000</td>\n",
              "      <td>3.000000</td>\n",
              "      <td>5.000000</td>\n",
              "      <td>8.000000</td>\n",
              "      <td>13.000000</td>\n",
              "      <td>13.000000</td>\n",
              "      <td>14.000000</td>\n",
              "    </tr>\n",
              "    <tr>\n",
              "      <th>max</th>\n",
              "      <td>22.000000</td>\n",
              "      <td>4.000000</td>\n",
              "      <td>4.000000</td>\n",
              "      <td>4.000000</td>\n",
              "      <td>4.000000</td>\n",
              "      <td>3.000000</td>\n",
              "      <td>5.000000</td>\n",
              "      <td>5.000000</td>\n",
              "      <td>5.000000</td>\n",
              "      <td>5.000000</td>\n",
              "      <td>5.000000</td>\n",
              "      <td>5.000000</td>\n",
              "      <td>75.000000</td>\n",
              "      <td>19.000000</td>\n",
              "      <td>19.000000</td>\n",
              "      <td>20.000000</td>\n",
              "    </tr>\n",
              "  </tbody>\n",
              "</table>\n",
              "</div>"
            ],
            "text/plain": [
              "              age        Medu        Fedu  ...          G1          G2          G3\n",
              "count  395.000000  395.000000  395.000000  ...  395.000000  395.000000  395.000000\n",
              "mean    16.696203    2.749367    2.521519  ...   10.908861   10.713924   10.415190\n",
              "std      1.276043    1.094735    1.088201  ...    3.319195    3.761505    4.581443\n",
              "min     15.000000    0.000000    0.000000  ...    3.000000    0.000000    0.000000\n",
              "25%     16.000000    2.000000    2.000000  ...    8.000000    9.000000    8.000000\n",
              "50%     17.000000    3.000000    2.000000  ...   11.000000   11.000000   11.000000\n",
              "75%     18.000000    4.000000    3.000000  ...   13.000000   13.000000   14.000000\n",
              "max     22.000000    4.000000    4.000000  ...   19.000000   19.000000   20.000000\n",
              "\n",
              "[8 rows x 16 columns]"
            ]
          },
          "metadata": {
            "tags": []
          },
          "execution_count": 7
        }
      ]
    },
    {
      "cell_type": "code",
      "metadata": {
        "id": "wqkEvI9-gSBW",
        "colab_type": "code",
        "colab": {
          "base_uri": "https://localhost:8080/",
          "height": 297
        },
        "outputId": "53ec99ae-62b4-4c11-96a6-5b661f693b23"
      },
      "source": [
        "#Plot the distribution of various features\n",
        "plt.bar(data['G3'].value_counts().index,data['G3'].value_counts().values ,width= .9)\n",
        "plt.xlabel('Final Grad')\n",
        "plt.ylabel ('count')"
      ],
      "execution_count": 42,
      "outputs": [
        {
          "output_type": "execute_result",
          "data": {
            "text/plain": [
              "Text(0, 0.5, 'count')"
            ]
          },
          "metadata": {
            "tags": []
          },
          "execution_count": 42
        },
        {
          "output_type": "display_data",
          "data": {
            "image/png": "[encoded data removed]",
            "text/plain": [
              "<Figure size 432x288 with 1 Axes>"
            ]
          },
          "metadata": {
            "tags": [],
            "needs_background": "light"
          }
        }
      ]
    },
    {
      "cell_type": "code",
      "metadata": {
        "colab_type": "code",
        "outputId": "99552208-0582-4a3f-9f46-97bb15186767",
        "id": "QE08k7Kykp2X",
        "colab": {
          "base_uri": "https://localhost:8080/",
          "height": 297
        }
      },
      "source": [
        "#Plot the distribution of various features\n",
        "plt.bar(data['G2'].value_counts().index,data['G2'].value_counts().values ,width= .9)\n",
        "plt.xlabel('2nd term Grad')\n",
        "plt.ylabel ('count')"
      ],
      "execution_count": 49,
      "outputs": [
        {
          "output_type": "execute_result",
          "data": {
            "text/plain": [
              "Text(0, 0.5, 'count')"
            ]
          },
          "metadata": {
            "tags": []
          },
          "execution_count": 49
        },
        {
          "output_type": "display_data",
          "data": {
            "image/png": "[encoded data removed]",
            "text/plain": [
              "<Figure size 432x288 with 1 Axes>"
            ]
          },
          "metadata": {
            "tags": [],
            "needs_background": "light"
          }
        }
      ]
    },
    {
      "cell_type": "code",
      "metadata": {
        "colab_type": "code",
        "outputId": "89325a60-8efc-4915-e9a7-0e8e2cc9d500",
        "id": "KLhI785vk4p1",
        "colab": {
          "base_uri": "https://localhost:8080/",
          "height": 297
        }
      },
      "source": [
        "#Plot the distribution of various features\n",
        "plt.bar(data['G1'].value_counts().index,data['G1'].value_counts().values ,width= .9)\n",
        "plt.xlabel('1st term Grad')\n",
        "plt.ylabel ('count')"
      ],
      "execution_count": 50,
      "outputs": [
        {
          "output_type": "execute_result",
          "data": {
            "text/plain": [
              "Text(0, 0.5, 'count')"
            ]
          },
          "metadata": {
            "tags": []
          },
          "execution_count": 50
        },
        {
          "output_type": "display_data",
          "data": {
            "image/png": "[encoded data removed]",
            "text/plain": [
              "<Figure size 432x288 with 1 Axes>"
            ]
          },
          "metadata": {
            "tags": [],
            "needs_background": "light"
          }
        }
      ]
    },
    {
      "cell_type": "code",
      "metadata": {
        "colab_type": "code",
        "outputId": "e311cc1a-ecef-4f68-a308-c26d6d8495ec",
        "id": "FU0IF7dXlHtl",
        "colab": {
          "base_uri": "https://localhost:8080/",
          "height": 297
        }
      },
      "source": [
        "#Plot the distribution of various features\n",
        "plt.bar(data['failures'].value_counts().index,data['failures'].value_counts().values ,width= .9)\n",
        "plt.xlabel('failures')\n",
        "plt.ylabel ('count')"
      ],
      "execution_count": 52,
      "outputs": [
        {
          "output_type": "execute_result",
          "data": {
            "text/plain": [
              "Text(0, 0.5, 'count')"
            ]
          },
          "metadata": {
            "tags": []
          },
          "execution_count": 52
        },
        {
          "output_type": "display_data",
          "data": {
            "image/png": "[encoded data removed]",
            "text/plain": [
              "<Figure size 432x288 with 1 Axes>"
            ]
          },
          "metadata": {
            "tags": [],
            "needs_background": "light"
          }
        }
      ]
    },
    {
      "cell_type": "code",
      "metadata": {
        "colab_type": "code",
        "outputId": "1aced7e9-cf62-4175-fa47-9fadc7bfbf7d",
        "id": "VEJXNqZllfrq",
        "colab": {
          "base_uri": "https://localhost:8080/",
          "height": 300
        }
      },
      "source": [
        "#Plot the distribution of various features\n",
        "plt.bar(data['absences'].value_counts().index,data['absences'].value_counts().values ,width= .9)\n",
        "plt.xlabel('absences')\n",
        "plt.ylabel ('count')"
      ],
      "execution_count": 53,
      "outputs": [
        {
          "output_type": "execute_result",
          "data": {
            "text/plain": [
              "Text(0, 0.5, 'count')"
            ]
          },
          "metadata": {
            "tags": []
          },
          "execution_count": 53
        },
        {
          "output_type": "display_data",
          "data": {
            "image/png": "[encoded data removed]",
            "text/plain": [
              "<Figure size 432x288 with 1 Axes>"
            ]
          },
          "metadata": {
            "tags": [],
            "needs_background": "light"
          }
        }
      ]
    },
    {
      "cell_type": "code",
      "metadata": {
        "colab_type": "code",
        "outputId": "ebb92e79-bf95-4075-f3ae-84883d403d8f",
        "id": "wC-egHw8nDMT",
        "colab": {
          "base_uri": "https://localhost:8080/",
          "height": 297
        }
      },
      "source": [
        "#Plot the distribution of various features\n",
        "plt.bar(data['traveltime'].value_counts().index,data['traveltime'].value_counts().values ,width= .9)\n",
        "plt.xlabel('traveltime')\n",
        "plt.ylabel ('count')"
      ],
      "execution_count": 56,
      "outputs": [
        {
          "output_type": "execute_result",
          "data": {
            "text/plain": [
              "Text(0, 0.5, 'count')"
            ]
          },
          "metadata": {
            "tags": []
          },
          "execution_count": 56
        },
        {
          "output_type": "display_data",
          "data": {
            "image/png": "[encoded data removed]",
            "text/plain": [
              "<Figure size 432x288 with 1 Axes>"
            ]
          },
          "metadata": {
            "tags": [],
            "needs_background": "light"
          }
        }
      ]
    },
    {
      "cell_type": "code",
      "metadata": {
        "colab_type": "code",
        "outputId": "dd0c5958-cb7a-466f-ff4e-9f7b2f35fb33",
        "id": "qxqYt-7Dm6F7",
        "colab": {
          "base_uri": "https://localhost:8080/",
          "height": 297
        }
      },
      "source": [
        "#Plot the distribution of various features\n",
        "plt.bar(data['freetime'].value_counts().index,data['freetime'].value_counts().values ,width= .9)\n",
        "plt.xlabel('freetime')\n",
        "plt.ylabel ('count')"
      ],
      "execution_count": 55,
      "outputs": [
        {
          "output_type": "execute_result",
          "data": {
            "text/plain": [
              "Text(0, 0.5, 'count')"
            ]
          },
          "metadata": {
            "tags": []
          },
          "execution_count": 55
        },
        {
          "output_type": "display_data",
          "data": {
            "image/png": "[encoded data removed]",
            "text/plain": [
              "<Figure size 432x288 with 1 Axes>"
            ]
          },
          "metadata": {
            "tags": [],
            "needs_background": "light"
          }
        }
      ]
    },
    {
      "cell_type": "code",
      "metadata": {
        "colab_type": "code",
        "outputId": "1152c076-1100-4b55-c419-373bc5fae3e0",
        "id": "nM4115sFmodG",
        "colab": {
          "base_uri": "https://localhost:8080/",
          "height": 297
        }
      },
      "source": [
        "#Plot the distribution of various features\n",
        "plt.bar(data['studytime'].value_counts().index,data['studytime'].value_counts().values ,width= .9)\n",
        "plt.xlabel('studytime')\n",
        "plt.ylabel ('count')"
      ],
      "execution_count": 54,
      "outputs": [
        {
          "output_type": "execute_result",
          "data": {
            "text/plain": [
              "Text(0, 0.5, 'count')"
            ]
          },
          "metadata": {
            "tags": []
          },
          "execution_count": 54
        },
        {
          "output_type": "display_data",
          "data": {
            "image/png": "[encoded data removed]",
            "text/plain": [
              "<Figure size 432x288 with 1 Axes>"
            ]
          },
          "metadata": {
            "tags": [],
            "needs_background": "light"
          }
        }
      ]
    },
    {
      "cell_type": "code",
      "metadata": {
        "id": "_rjHSFKEnvEK",
        "colab_type": "code",
        "colab": {
          "base_uri": "https://localhost:8080/",
          "height": 465
        },
        "outputId": "21e245de-4a2c-4411-99e9-d6641334b32d"
      },
      "source": [
        "#Plotting Categorical Variable\n",
        "(ggplot(data)         # defining what data to use\n",
        " + aes(x='guardian')    # defining what variable to use\n",
        " + geom_bar(size=20) # defining the type of plot to use\n",
        ")"
      ],
      "execution_count": 74,
      "outputs": [
        {
          "output_type": "display_data",
          "data": {
            "image/png": "[encoded data removed]",
            "text/plain": [
              "<Figure size 640x480 with 1 Axes>"
            ]
          },
          "metadata": {
            "tags": []
          }
        },
        {
          "output_type": "execute_result",
          "data": {
            "text/plain": [
              "<ggplot: (-9223363302735394588)>"
            ]
          },
          "metadata": {
            "tags": []
          },
          "execution_count": 74
        }
      ]
    },
    {
      "cell_type": "code",
      "metadata": {
        "id": "tjGVmAVUu1Nn",
        "colab_type": "code",
        "colab": {}
      },
      "source": [
        ""
      ],
      "execution_count": 0,
      "outputs": []
    },
    {
      "cell_type": "code",
      "metadata": {
        "colab_type": "code",
        "outputId": "3d6c940b-8995-46a2-9039-82a4229ca055",
        "id": "r_1N1nZMw3lF",
        "colab": {
          "base_uri": "https://localhost:8080/",
          "height": 465
        }
      },
      "source": [
        "#Plotting Categorical Variable\n",
        "(ggplot(data)         # defining what data to use\n",
        " + aes(x='romantic')    # defining what variable to use\n",
        " + geom_bar(size=20) # defining the type of plot to use\n",
        ")"
      ],
      "execution_count": 82,
      "outputs": [
        {
          "output_type": "display_data",
          "data": {
            "image/png": "[encoded data removed]",
            "text/plain": [
              "<Figure size 640x480 with 1 Axes>"
            ]
          },
          "metadata": {
            "tags": []
          }
        },
        {
          "output_type": "execute_result",
          "data": {
            "text/plain": [
              "<ggplot: (-9223363302738115156)>"
            ]
          },
          "metadata": {
            "tags": []
          },
          "execution_count": 82
        }
      ]
    },
    {
      "cell_type": "code",
      "metadata": {
        "colab_type": "code",
        "outputId": "feb524b8-d140-4189-9088-fddb71d6cd44",
        "id": "24wJlKP1u3FL",
        "colab": {
          "base_uri": "https://localhost:8080/",
          "height": 466
        }
      },
      "source": [
        "#Plotting Categorical Variable\n",
        "(ggplot(data)         # defining what data to use\n",
        " + aes(x='reason')    # defining what variable to use\n",
        " + geom_bar(size=20) # defining the type of plot to use\n",
        ")"
      ],
      "execution_count": 81,
      "outputs": [
        {
          "output_type": "display_data",
          "data": {
            "image/png": "[encoded data removed]",
            "text/plain": [
              "<Figure size 640x480 with 1 Axes>"
            ]
          },
          "metadata": {
            "tags": []
          }
        },
        {
          "output_type": "execute_result",
          "data": {
            "text/plain": [
              "<ggplot: (-9223363302738112715)>"
            ]
          },
          "metadata": {
            "tags": []
          },
          "execution_count": 81
        }
      ]
    },
    {
      "cell_type": "code",
      "metadata": {
        "colab_type": "code",
        "outputId": "920792ea-312d-4b16-8782-ca0eb1a232af",
        "id": "RijEo_-6nzV6",
        "colab": {
          "base_uri": "https://localhost:8080/",
          "height": 501
        }
      },
      "source": [
        "#plot relationship between absences and final grade which is G3\n",
        "plt.figure(figsize=(8, 8))\n",
        "plt.plot(data['traveltime'] ,data['G3'] , 'r+')\n",
        "plt.xlabel('')\n",
        "plt.ylabel('G3')"
      ],
      "execution_count": 64,
      "outputs": [
        {
          "output_type": "execute_result",
          "data": {
            "text/plain": [
              "Text(0, 0.5, 'G3')"
            ]
          },
          "metadata": {
            "tags": []
          },
          "execution_count": 64
        },
        {
          "output_type": "display_data",
          "data": {
            "image/png": "[encoded data removed]",
            "text/plain": [
              "<Figure size 576x576 with 1 Axes>"
            ]
          },
          "metadata": {
            "tags": [],
            "needs_background": "light"
          }
        }
      ]
    },
    {
      "cell_type": "code",
      "metadata": {
        "id": "3H3xI2yncfX1",
        "colab_type": "code",
        "colab": {
          "base_uri": "https://localhost:8080/",
          "height": 515
        },
        "outputId": "1ff996a1-9768-4ef5-fabc-3eb414440f8b"
      },
      "source": [
        "#plot relationship between absences and final grade which is G3\n",
        "plt.figure(figsize=(8, 8))\n",
        "plt.plot(data['absences'] ,data['G3'] , 'r+')\n",
        "plt.xlabel('absences')\n",
        "plt.ylabel('G3')"
      ],
      "execution_count": 57,
      "outputs": [
        {
          "output_type": "execute_result",
          "data": {
            "text/plain": [
              "Text(0, 0.5, 'G3')"
            ]
          },
          "metadata": {
            "tags": []
          },
          "execution_count": 57
        },
        {
          "output_type": "display_data",
          "data": {
            "image/png": "[encoded data removed]",
            "text/plain": [
              "<Figure size 576x576 with 1 Axes>"
            ]
          },
          "metadata": {
            "tags": [],
            "needs_background": "light"
          }
        }
      ]
    },
    {
      "cell_type": "code",
      "metadata": {
        "id": "FCLLuxlFs6Z4",
        "colab_type": "code",
        "colab": {
          "base_uri": "https://localhost:8080/",
          "height": 593
        },
        "outputId": "4ab20629-82ed-45f7-8210-a5588ce2e323"
      },
      "source": [
        "type_counts = data['guardian'].value_counts()\n",
        "df2 = pd.DataFrame({'guardian': type_counts}, \n",
        "                     index = ['father', 'mother']\n",
        "                   )\n",
        "df2.plot.pie(y='guardian', figsize=(10,10), autopct='%1.1f%%')"
      ],
      "execution_count": 84,
      "outputs": [
        {
          "output_type": "execute_result",
          "data": {
            "text/plain": [
              "<matplotlib.axes._subplots.AxesSubplot at 0x7f191ea88198>"
            ]
          },
          "metadata": {
            "tags": []
          },
          "execution_count": 84
        },
        {
          "output_type": "display_data",
          "data": {
            "image/png": "[encoded data removed]",
            "text/plain": [
              "<Figure size 720x720 with 1 Axes>"
            ]
          },
          "metadata": {
            "tags": []
          }
        }
      ]
    },
    {
      "cell_type": "code",
      "metadata": {
        "id": "aeQvJhUz18s9",
        "colab_type": "code",
        "colab": {}
      },
      "source": [
        ""
      ],
      "execution_count": 0,
      "outputs": []
    },
    {
      "cell_type": "code",
      "metadata": {
        "colab_type": "code",
        "outputId": "e2723e58-c2ac-4da8-dadc-05488e7dcc30",
        "id": "Z7J1J1ks1-Kt",
        "colab": {
          "base_uri": "https://localhost:8080/",
          "height": 593
        }
      },
      "source": [
        "type_counts = data['reason'].value_counts()\n",
        "df2 = pd.DataFrame({'reason': type_counts}, \n",
        "                     index = ['course', 'other' , 'home', 'reputation']\n",
        "                   )\n",
        "df2.plot.pie(y='reason', figsize=(10,10), autopct='%1.1f%%') "
      ],
      "execution_count": 85,
      "outputs": [
        {
          "output_type": "execute_result",
          "data": {
            "text/plain": [
              "<matplotlib.axes._subplots.AxesSubplot at 0x7f191e9d65c0>"
            ]
          },
          "metadata": {
            "tags": []
          },
          "execution_count": 85
        },
        {
          "output_type": "display_data",
          "data": {
            "image/png": "[encoded data removed]",
            "text/plain": [
              "<Figure size 720x720 with 1 Axes>"
            ]
          },
          "metadata": {
            "tags": []
          }
        }
      ]
    },
    {
      "cell_type": "code",
      "metadata": {
        "id": "d-bOh3ty2c1z",
        "colab_type": "code",
        "colab": {}
      },
      "source": [
        "#Calculate feature correlation with final grade for both categorical and numerical values\n",
        "# to find correlation of categorical data we need to convert categorical data into numeric data\n",
        "\n",
        "data['school'] =data['school'].astype('category').cat.codes\n",
        "data['sex'] =data['sex'].astype('category').cat.codes\n",
        "data['address'] =data['address'].astype('category').cat.codes\n",
        "data['famsize'] =data['famsize'].astype('category').cat.codes\n",
        "data['Pstatus'] =data['Pstatus'].astype('category').cat.codes\n",
        "data['Medu'] =data['Medu'].astype('category').cat.codes\n",
        "data['Fedu'] =data['Fedu'].astype('category').cat.codes\n",
        "data['schoolsup'] =data['schoolsup'].astype('category').cat.codes\n",
        "data['famsup'] =data['famsup'].astype('category').cat.codes\n",
        "data['reason'] =data['reason'].astype('category').cat.codes\n",
        "data['guardian'] =data['guardian'].astype('category').cat.codes\n",
        "data['paid'] =data['paid'].astype('category').cat.codes\n",
        "data['activities'] =data['activities'].astype('category').cat.codes\n",
        "data['nursery'] =data['nursery'].astype('category').cat.codes\n",
        "data['higher'] =data['higher'].astype('category').cat.codes\n",
        "data['internet'] =data['internet'].astype('category').cat.codes\n",
        "data['romantic'] =data['romantic'].astype('category').cat.codes\n",
        "\n",
        "# now finding correlation\n",
        "correlation_matrix=data[['school' ,'sex','age' ,'address','famsize','Pstatus','Medu','Fedu','Mjob','Fjob','reason','guardian','traveltime','studytime','failures','schoolsup','famsup','paid','activities','nursery','higher','internet','romantic','famrel','freetime','goout','Dalc','Walc','health','absences','G1','G2']].corrwith(data['G3']).abs()"
      ],
      "execution_count": 0,
      "outputs": []
    },
    {
      "cell_type": "code",
      "metadata": {
        "id": "SYzNFyUD5m7T",
        "colab_type": "code",
        "colab": {
          "base_uri": "https://localhost:8080/",
          "height": 605
        },
        "outputId": "e5b439de-61e2-4017-e69e-8503ec646e99"
      },
      "source": [
        "data.corr()['G3'].sort_values()"
      ],
      "execution_count": 93,
      "outputs": [
        {
          "output_type": "execute_result",
          "data": {
            "text/plain": [
              "failures     -0.360415\n",
              "age          -0.161579\n",
              "goout        -0.132791\n",
              "romantic     -0.129970\n",
              "traveltime   -0.117142\n",
              "schoolsup    -0.082788\n",
              "guardian     -0.070109\n",
              "health       -0.061335\n",
              "Pstatus      -0.058009\n",
              "Dalc         -0.054660\n",
              "Walc         -0.051939\n",
              "school       -0.045017\n",
              "famsup       -0.039157\n",
              "freetime      0.011307\n",
              "activities    0.016100\n",
              "absences      0.034247\n",
              "famrel        0.051363\n",
              "nursery       0.051568\n",
              "famsize       0.081407\n",
              "studytime     0.097820\n",
              "internet      0.098483\n",
              "paid          0.101996\n",
              "sex           0.103456\n",
              "address       0.105756\n",
              "reason        0.121994\n",
              "Fedu          0.152457\n",
              "higher        0.182465\n",
              "Medu          0.217147\n",
              "G1            0.801468\n",
              "G2            0.904868\n",
              "G3            1.000000\n",
              "Name: G3, dtype: float64"
            ]
          },
          "metadata": {
            "tags": []
          },
          "execution_count": 93
        }
      ]
    },
    {
      "cell_type": "code",
      "metadata": {
        "colab_type": "code",
        "id": "_djKF-Lp9IQH",
        "colab": {}
      },
      "source": [
        "correlationoutput=data.corr()['G3'].sort_values()"
      ],
      "execution_count": 0,
      "outputs": []
    },
    {
      "cell_type": "code",
      "metadata": {
        "id": "KQ1-wWHY7rVE",
        "colab_type": "code",
        "colab": {}
      },
      "source": [
        "def top_correlation (ary,N):\n",
        "  corrsort=sorted(ary , reverse=True)[:N]\n",
        "\n",
        "  return corrsort\n",
        " "
      ],
      "execution_count": 0,
      "outputs": []
    },
    {
      "cell_type": "code",
      "metadata": {
        "id": "sLhRwxcm9hYi",
        "colab_type": "code",
        "colab": {
          "base_uri": "https://localhost:8080/",
          "height": 201
        },
        "outputId": "5630815e-11fb-4e1a-8195-54bf55838c86"
      },
      "source": [
        "top_correlation(correlation_matrix , 10)"
      ],
      "execution_count": 102,
      "outputs": [
        {
          "output_type": "execute_result",
          "data": {
            "text/plain": [
              "[0.9048679892693009,\n",
              " 0.8014679320174146,\n",
              " 0.3604149404616497,\n",
              " 0.21714749613860598,\n",
              " 0.18246461785815765,\n",
              " 0.16157943813834058,\n",
              " 0.15245693890425902,\n",
              " 0.13279147350332923,\n",
              " 0.12996995016344978,\n",
              " 0.12199410591813471]"
            ]
          },
          "metadata": {
            "tags": []
          },
          "execution_count": 102
        }
      ]
    },
    {
      "cell_type": "code",
      "metadata": {
        "id": "aVmmAerDhuG-",
        "colab_type": "code",
        "colab": {}
      },
      "source": [
        "#most correlated features are (failures,Medu,Higher,age,Fedu,goout,romantic,reason,absences,studytime)\n",
        "target = data['G3']\n",
        "f = data.drop(columns=['school', 'G1', 'G2', 'sex','address','famsize','Pstatus','Mjob','Fjob','guardian','traveltime','schoolsup','famsup','paid','activities','nursery','internet','famrel','Dalc','Walc','health'])             \n",
        "X_train, X_test, y_train, y_test = train_test_split(f,target, test_size=0.25, random_state=42)"
      ],
      "execution_count": 0,
      "outputs": []
    },
    {
      "cell_type": "code",
      "metadata": {
        "id": "IPZqrPpUNoR9",
        "colab_type": "code",
        "colab": {
          "base_uri": "https://localhost:8080/",
          "height": 206
        },
        "outputId": "bb9bcfa2-8db1-4616-af0b-3b9fd315c30b"
      },
      "source": [
        "X_train.tail()"
      ],
      "execution_count": 110,
      "outputs": [
        {
          "output_type": "execute_result",
          "data": {
            "text/html": [
              "<div>\n",
              "<style scoped>\n",
              "    .dataframe tbody tr th:only-of-type {\n",
              "        vertical-align: middle;\n",
              "    }\n",
              "\n",
              "    .dataframe tbody tr th {\n",
              "        vertical-align: top;\n",
              "    }\n",
              "\n",
              "    .dataframe thead th {\n",
              "        text-align: right;\n",
              "    }\n",
              "</style>\n",
              "<table border=\"1\" class=\"dataframe\">\n",
              "  <thead>\n",
              "    <tr style=\"text-align: right;\">\n",
              "      <th></th>\n",
              "      <th>age</th>\n",
              "      <th>Medu</th>\n",
              "      <th>Fedu</th>\n",
              "      <th>reason</th>\n",
              "      <th>studytime</th>\n",
              "      <th>failures</th>\n",
              "      <th>higher</th>\n",
              "      <th>romantic</th>\n",
              "      <th>freetime</th>\n",
              "      <th>goout</th>\n",
              "      <th>absences</th>\n",
              "      <th>G3</th>\n",
              "    </tr>\n",
              "  </thead>\n",
              "  <tbody>\n",
              "    <tr>\n",
              "      <th>71</th>\n",
              "      <td>15</td>\n",
              "      <td>4</td>\n",
              "      <td>2</td>\n",
              "      <td>0</td>\n",
              "      <td>4</td>\n",
              "      <td>0</td>\n",
              "      <td>1</td>\n",
              "      <td>0</td>\n",
              "      <td>3</td>\n",
              "      <td>3</td>\n",
              "      <td>0</td>\n",
              "      <td>10</td>\n",
              "    </tr>\n",
              "    <tr>\n",
              "      <th>106</th>\n",
              "      <td>15</td>\n",
              "      <td>2</td>\n",
              "      <td>2</td>\n",
              "      <td>0</td>\n",
              "      <td>4</td>\n",
              "      <td>0</td>\n",
              "      <td>1</td>\n",
              "      <td>0</td>\n",
              "      <td>1</td>\n",
              "      <td>2</td>\n",
              "      <td>8</td>\n",
              "      <td>8</td>\n",
              "    </tr>\n",
              "    <tr>\n",
              "      <th>270</th>\n",
              "      <td>19</td>\n",
              "      <td>3</td>\n",
              "      <td>3</td>\n",
              "      <td>1</td>\n",
              "      <td>2</td>\n",
              "      <td>2</td>\n",
              "      <td>1</td>\n",
              "      <td>0</td>\n",
              "      <td>3</td>\n",
              "      <td>5</td>\n",
              "      <td>15</td>\n",
              "      <td>9</td>\n",
              "    </tr>\n",
              "    <tr>\n",
              "      <th>348</th>\n",
              "      <td>17</td>\n",
              "      <td>4</td>\n",
              "      <td>3</td>\n",
              "      <td>3</td>\n",
              "      <td>3</td>\n",
              "      <td>0</td>\n",
              "      <td>1</td>\n",
              "      <td>1</td>\n",
              "      <td>4</td>\n",
              "      <td>3</td>\n",
              "      <td>0</td>\n",
              "      <td>15</td>\n",
              "    </tr>\n",
              "    <tr>\n",
              "      <th>102</th>\n",
              "      <td>15</td>\n",
              "      <td>4</td>\n",
              "      <td>4</td>\n",
              "      <td>0</td>\n",
              "      <td>1</td>\n",
              "      <td>0</td>\n",
              "      <td>1</td>\n",
              "      <td>0</td>\n",
              "      <td>3</td>\n",
              "      <td>3</td>\n",
              "      <td>4</td>\n",
              "      <td>14</td>\n",
              "    </tr>\n",
              "  </tbody>\n",
              "</table>\n",
              "</div>"
            ],
            "text/plain": [
              "     age  Medu  Fedu  reason  ...  freetime  goout  absences  G3\n",
              "71    15     4     2       0  ...         3      3         0  10\n",
              "106   15     2     2       0  ...         1      2         8   8\n",
              "270   19     3     3       1  ...         3      5        15   9\n",
              "348   17     4     3       3  ...         4      3         0  15\n",
              "102   15     4     4       0  ...         3      3         4  14\n",
              "\n",
              "[5 rows x 12 columns]"
            ]
          },
          "metadata": {
            "tags": []
          },
          "execution_count": 110
        }
      ]
    },
    {
      "cell_type": "code",
      "metadata": {
        "id": "y9YKnioCLKCc",
        "colab_type": "code",
        "colab": {
          "base_uri": "https://localhost:8080/",
          "height": 206
        },
        "outputId": "eb5256de-3916-4880-d4f3-14cac1eac690"
      },
      "source": [
        "X_test.head()"
      ],
      "execution_count": 111,
      "outputs": [
        {
          "output_type": "execute_result",
          "data": {
            "text/html": [
              "<div>\n",
              "<style scoped>\n",
              "    .dataframe tbody tr th:only-of-type {\n",
              "        vertical-align: middle;\n",
              "    }\n",
              "\n",
              "    .dataframe tbody tr th {\n",
              "        vertical-align: top;\n",
              "    }\n",
              "\n",
              "    .dataframe thead th {\n",
              "        text-align: right;\n",
              "    }\n",
              "</style>\n",
              "<table border=\"1\" class=\"dataframe\">\n",
              "  <thead>\n",
              "    <tr style=\"text-align: right;\">\n",
              "      <th></th>\n",
              "      <th>age</th>\n",
              "      <th>Medu</th>\n",
              "      <th>Fedu</th>\n",
              "      <th>reason</th>\n",
              "      <th>studytime</th>\n",
              "      <th>failures</th>\n",
              "      <th>higher</th>\n",
              "      <th>romantic</th>\n",
              "      <th>freetime</th>\n",
              "      <th>goout</th>\n",
              "      <th>absences</th>\n",
              "      <th>G3</th>\n",
              "    </tr>\n",
              "  </thead>\n",
              "  <tbody>\n",
              "    <tr>\n",
              "      <th>78</th>\n",
              "      <td>17</td>\n",
              "      <td>2</td>\n",
              "      <td>1</td>\n",
              "      <td>1</td>\n",
              "      <td>1</td>\n",
              "      <td>3</td>\n",
              "      <td>0</td>\n",
              "      <td>0</td>\n",
              "      <td>5</td>\n",
              "      <td>1</td>\n",
              "      <td>2</td>\n",
              "      <td>10</td>\n",
              "    </tr>\n",
              "    <tr>\n",
              "      <th>371</th>\n",
              "      <td>18</td>\n",
              "      <td>1</td>\n",
              "      <td>2</td>\n",
              "      <td>2</td>\n",
              "      <td>1</td>\n",
              "      <td>0</td>\n",
              "      <td>0</td>\n",
              "      <td>1</td>\n",
              "      <td>3</td>\n",
              "      <td>3</td>\n",
              "      <td>3</td>\n",
              "      <td>12</td>\n",
              "    </tr>\n",
              "    <tr>\n",
              "      <th>248</th>\n",
              "      <td>18</td>\n",
              "      <td>3</td>\n",
              "      <td>3</td>\n",
              "      <td>0</td>\n",
              "      <td>2</td>\n",
              "      <td>1</td>\n",
              "      <td>1</td>\n",
              "      <td>1</td>\n",
              "      <td>3</td>\n",
              "      <td>3</td>\n",
              "      <td>8</td>\n",
              "      <td>5</td>\n",
              "    </tr>\n",
              "    <tr>\n",
              "      <th>55</th>\n",
              "      <td>16</td>\n",
              "      <td>2</td>\n",
              "      <td>1</td>\n",
              "      <td>2</td>\n",
              "      <td>2</td>\n",
              "      <td>0</td>\n",
              "      <td>1</td>\n",
              "      <td>1</td>\n",
              "      <td>3</td>\n",
              "      <td>4</td>\n",
              "      <td>8</td>\n",
              "      <td>10</td>\n",
              "    </tr>\n",
              "    <tr>\n",
              "      <th>390</th>\n",
              "      <td>20</td>\n",
              "      <td>2</td>\n",
              "      <td>2</td>\n",
              "      <td>0</td>\n",
              "      <td>2</td>\n",
              "      <td>2</td>\n",
              "      <td>1</td>\n",
              "      <td>0</td>\n",
              "      <td>5</td>\n",
              "      <td>4</td>\n",
              "      <td>11</td>\n",
              "      <td>9</td>\n",
              "    </tr>\n",
              "  </tbody>\n",
              "</table>\n",
              "</div>"
            ],
            "text/plain": [
              "     age  Medu  Fedu  reason  ...  freetime  goout  absences  G3\n",
              "78    17     2     1       1  ...         5      1         2  10\n",
              "371   18     1     2       2  ...         3      3         3  12\n",
              "248   18     3     3       0  ...         3      3         8   5\n",
              "55    16     2     1       2  ...         3      4         8  10\n",
              "390   20     2     2       0  ...         5      4        11   9\n",
              "\n",
              "[5 rows x 12 columns]"
            ]
          },
          "metadata": {
            "tags": []
          },
          "execution_count": 111
        }
      ]
    },
    {
      "cell_type": "code",
      "metadata": {
        "id": "kMv15m86Nrdy",
        "colab_type": "code",
        "colab": {}
      },
      "source": [
        "from sklearn.ensemble import GradientBoostingRegressor\n",
        "from sklearn.ensemble import RandomForestRegressor\n",
        "\n",
        "from sklearn.ensemble import ExtraTreesRegressor\n",
        "from sklearn.linear_model import LinearRegression\n",
        "from sklearn.svm import SVR\n",
        "from sklearn.neighbors import KNeighborsRegressor\n",
        "\n"
      ],
      "execution_count": 0,
      "outputs": []
    },
    {
      "cell_type": "code",
      "metadata": {
        "id": "wfCJYYPlN3hU",
        "colab_type": "code",
        "colab": {}
      },
      "source": [
        "def evaluatemodels(X_train,X_test,y_train,y_test):\n",
        "  #Gradiant Booster first model\n",
        "  gradient_boosted = GradientBoostingRegressor()\n",
        "  gradient_boosted.fit(X_train, y_train)\n",
        "  predictions = gradient_boosted.predict(X_test)\n",
        "  mae1 = np.mean(abs(predictions - y_test))\n",
        "  rmse1 = np.sqrt(np.mean((predictions - y_test) ** 2))\n",
        "  print('Gradient Boosted Performance on the test set: MAE = %0.4f' %mae1)\n",
        "  print('Gradient Boosted Performance on the test set: RMSE = %0.4f' % rmse1)\n",
        "  #Random Forest 2nd Model\n",
        "  random_forest=RandomForestRegressor()\n",
        "  random_forest.fit(X_train,y_train)\n",
        "  predictions1 = random_forest.predict(X_test)\n",
        "  mae2 = np.mean(abs(predictions1 - y_test))\n",
        "  rmse2 = np.sqrt(np.mean((predictions1- y_test)**2))\n",
        "  print('Random forest Performance on the test set : MAE = %0.4f' %mae2)\n",
        "  print ('Random forest Performance on the test set : RMSE = %0.4f' %rmse2)\n",
        "  #Extra Trees 3rd Model\n",
        "  extra_trees=ExtraTreesRegressor()\n",
        "  extra_trees.fit(X_train,y_train)\n",
        "  predictions2 = extra_trees.predict(X_test)\n",
        "  mae3 = np.mean(abs(predictions2 - y_test))\n",
        "  rmse3 = np.sqrt(np.mean((predictions2- y_test)**2))\n",
        "  print('Extra Trees Performance on the test set : MAE = %0.4f' %mae3)\n",
        "  print ('Extra Trees Performance on the test set : RMSE = %0.4f' %rmse3)\n",
        "  #Linear Regression 4th Model\n",
        "  linear_regression=LinearRegression()\n",
        "  linear_regression.fit(X_train,y_train)\n",
        "  predictions3 = linear_regression.predict(X_test)\n",
        "  mae4 = np.mean(abs(predictions3 - y_test))\n",
        "  rmse4 = np.sqrt(np.mean((predictions3- y_test)**2))\n",
        "  print('Linear Regression Performance on the test set : MAE = %0.4f' %mae4)\n",
        "  print ('Linear Regression Performance on the test set : RMSE = %0.4f' %rmse4)\n",
        "  #Support Vector Machine 5th Model\n",
        "  support_vector=SVR()\n",
        "  support_vector.fit(X_train,y_train)\n",
        "  predictions4 = support_vector.predict(X_test)\n",
        "  mae5 = np.mean(abs(predictions4 - y_test))\n",
        "  rmse5 = np.sqrt(np.mean((predictions4- y_test)**2))\n",
        "  print('Support Vector Machine Performance on the test set : MAE = %0.4f' %mae5)\n",
        "  print ('Support Vecor Machine Performance on the test set : RMSE = %0.4f' %rmse5)\n",
        "  #K-Neighbor Regressor\n",
        "  k_neighbor=KNeighborsRegressor()\n",
        "  k_neighbor.fit(X_train,y_train)\n",
        "  predictions5 = k_neighbor.predict(X_test)\n",
        "  mae6 = np.mean(abs(predictions5 - y_test))\n",
        "  rmse6 = np.sqrt(np.mean((predictions5- y_test)**2))\n",
        "  print('K Neighbor Performance on the test set : MAE = %0.4f' %mae6)\n",
        "  print ('K Neighbor Performance on the test set : RMSE = %0.4f' %rmse6)\n",
        "\n",
        "  # Dataframe to hold the results\n",
        "  model_comparison = pd.DataFrame({'model': ['Gradiant Boosted Regressor','Randome Forest','Exra Trees','Linear Regression', 'Support Vector Machine','K-Nearest Neighbors'],\n",
        "                                 'mae': [mae1 , mae2 , mae3, mae4 , mae5 , mae6],\n",
        "                                  'rmse': [rmse1 , rmse2 , rmse3 ,rmse4, rmse5 ,rmse6]})\n",
        "  model_comparison\n",
        "\n",
        "  # Horizontal bar chart of test mae\n",
        "  model_comparison.sort_values('mae', ascending = False).plot(x = 'model', y = 'mae', kind = 'barh',\n",
        "                                                           color = 'blue')\n",
        "  # Horizontal bar chart of test rmse\n",
        "  model_comparison.sort_values('rmse', ascending = False).plot(x = 'model', y = 'rmse', kind = 'barh',\n",
        "                                                           color = 'blue')\n",
        "\n"
      ],
      "execution_count": 0,
      "outputs": []
    },
    {
      "cell_type": "code",
      "metadata": {
        "id": "U5tadAOU16nC",
        "colab_type": "code",
        "colab": {
          "base_uri": "https://localhost:8080/",
          "height": 733
        },
        "outputId": "05a9af17-97f8-466b-8dc3-cb0eb8151fe8"
      },
      "source": [
        "evaluatemodels(X_train,X_test,y_train,y_test)"
      ],
      "execution_count": 183,
      "outputs": [
        {
          "output_type": "stream",
          "text": [
            "Gradient Boosted Performance on the test set: MAE = 0.0034\n",
            "Gradient Boosted Performance on the test set: RMSE = 0.0304\n",
            "Random forest Performance on the test set : MAE = 0.0197\n",
            "Random forest Performance on the test set : RMSE = 0.0563\n",
            "Extra Trees Performance on the test set : MAE = 0.0155\n",
            "Extra Trees Performance on the test set : RMSE = 0.0572\n",
            "Linear Regression Performance on the test set : MAE = 0.0000\n",
            "Linear Regression Performance on the test set : RMSE = 0.0000\n",
            "Support Vector Machine Performance on the test set : MAE = 0.2701\n",
            "Support Vecor Machine Performance on the test set : RMSE = 0.4364\n",
            "K Neighbor Performance on the test set : MAE = 0.6848\n",
            "K Neighbor Performance on the test set : RMSE = 0.9094\n"
          ],
          "name": "stdout"
        },
        {
          "output_type": "display_data",
          "data": {
            "image/png": "[encoded data removed]",
            "text/plain": [
              "<Figure size 432x288 with 1 Axes>"
            ]
          },
          "metadata": {
            "tags": [],
            "needs_background": "light"
          }
        },
        {
          "output_type": "display_data",
          "data": {
            "image/png": "[encoded data removed]",
            "text/plain": [
              "<Figure size 432x288 with 1 Axes>"
            ]
          },
          "metadata": {
            "tags": [],
            "needs_background": "light"
          }
        }
      ]
    },
    {
      "cell_type": "code",
      "metadata": {
        "id": "UDCIyZAH_pwl",
        "colab_type": "code",
        "colab": {
          "base_uri": "https://localhost:8080/",
          "height": 221
        },
        "outputId": "8eb6873e-21ea-4537-d25c-0e1c151eaae5"
      },
      "source": [
        "#Implementation of Bayesian Linear Regression Results\n",
        "with pm.Model() as linear_model:\n",
        "    # Intercept\n",
        "    intercept = pm.Normal('Intercept', mu = 0, sd = 10)\n",
        "    \n",
        "    # Slope \n",
        "    slope = pm.Normal('slope', mu = 0, sd = 10)\n",
        "    \n",
        "    # Standard deviation\n",
        "    sigma = pm.HalfNormal('sigma', sd = 10)\n",
        "    \n",
        "    # Estimate of mean\n",
        "    mean = intercept + slope * X_train.loc[:, 'G3']\n",
        "    \n",
        "    # Observed values\n",
        "    Y_obs = pm.Normal('Y_obs', mu = mean, sd = sigma, observed = y_train.values)\n",
        "    \n",
        "    # Sampler\n",
        "    step = pm.NUTS()\n",
        "\n",
        "    # Posterior distribution\n",
        "\n",
        "    linear_trace = pm.sample(1000, step)"
      ],
      "execution_count": 188,
      "outputs": [
        {
          "output_type": "stream",
          "text": [
            "Sequential sampling (2 chains in 1 job)\n",
            "NUTS: [sigma, slope, Intercept]\n",
            "100%|██████████| 1500/1500 [00:03<00:00, 477.50it/s]\n",
            "100%|██████████| 1500/1500 [00:14<00:00, 102.55it/s]\n",
            "There were 496 divergences after tuning. Increase `target_accept` or reparameterize.\n",
            "The acceptance probability does not match the target. It is 0.046416261419828554, but should be close to 0.8. Try to increase the number of tuning steps.\n",
            "There were 602 divergences after tuning. Increase `target_accept` or reparameterize.\n",
            "The acceptance probability does not match the target. It is 0.22728404997165463, but should be close to 0.8. Try to increase the number of tuning steps.\n",
            "The gelman-rubin statistic is larger than 1.4 for some parameters. The sampler did not converge.\n",
            "The estimated number of effective samples is smaller than 200 for some parameters.\n"
          ],
          "name": "stderr"
        }
      ]
    },
    {
      "cell_type": "code",
      "metadata": {
        "id": "8nTt0eaaKbId",
        "colab_type": "code",
        "colab": {
          "base_uri": "https://localhost:8080/",
          "height": 473
        },
        "outputId": "3032a492-d0e1-4a17-98dd-29b1f678eda7"
      },
      "source": [
        "#!pip3 install pymc3>=3.8\n",
        "\n",
        "az.plot_trace(linear_trace)\n",
        "\n"
      ],
      "execution_count": 223,
      "outputs": [
        {
          "output_type": "error",
          "ename": "AttributeError",
          "evalue": "ignored",
          "traceback": [
            "\u001b[0;31m---------------------------------------------------------------------------\u001b[0m",
            "\u001b[0;31mAttributeError\u001b[0m                            Traceback (most recent call last)",
            "\u001b[0;32m/usr/local/lib/python3.6/dist-packages/arviz/data/io_pymc3.py\u001b[0m in \u001b[0;36m_extract_log_likelihood\u001b[0;34m(self)\u001b[0m\n\u001b[1;32m    166\u001b[0m         \u001b[0;32mtry\u001b[0m\u001b[0;34m:\u001b[0m\u001b[0;34m\u001b[0m\u001b[0;34m\u001b[0m\u001b[0m\n\u001b[0;32m--> 167\u001b[0;31m             log_likelihood_dict = self.pymc3.sampling._DefaultTrace(  # pylint: disable=protected-access\n\u001b[0m\u001b[1;32m    168\u001b[0m                 \u001b[0mlen\u001b[0m\u001b[0;34m(\u001b[0m\u001b[0mself\u001b[0m\u001b[0;34m.\u001b[0m\u001b[0mtrace\u001b[0m\u001b[0;34m.\u001b[0m\u001b[0mchains\u001b[0m\u001b[0;34m)\u001b[0m\u001b[0;34m\u001b[0m\u001b[0;34m\u001b[0m\u001b[0m\n",
            "\u001b[0;31mAttributeError\u001b[0m: module 'pymc3.sampling' has no attribute '_DefaultTrace'",
            "\nDuring handling of the above exception, another exception occurred:\n",
            "\u001b[0;31mAttributeError\u001b[0m                            Traceback (most recent call last)",
            "\u001b[0;32m<ipython-input-223-e9c32aa4d626>\u001b[0m in \u001b[0;36m<module>\u001b[0;34m()\u001b[0m\n\u001b[1;32m      1\u001b[0m \u001b[0;34m\u001b[0m\u001b[0m\n\u001b[0;32m----> 2\u001b[0;31m \u001b[0maz\u001b[0m\u001b[0;34m.\u001b[0m\u001b[0mplot_trace\u001b[0m\u001b[0;34m(\u001b[0m\u001b[0mlinear_trace\u001b[0m\u001b[0;34m)\u001b[0m\u001b[0;34m\u001b[0m\u001b[0;34m\u001b[0m\u001b[0m\n\u001b[0m\u001b[1;32m      3\u001b[0m \u001b[0;34m\u001b[0m\u001b[0m\n",
            "\u001b[0;32m/usr/local/lib/python3.6/dist-packages/arviz/plots/traceplot.py\u001b[0m in \u001b[0;36mplot_trace\u001b[0;34m(data, var_names, transform, coords, divergences, figsize, rug, lines, compact, compact_prop, combined, chain_prop, legend, plot_kwargs, fill_kwargs, rug_kwargs, hist_kwargs, trace_kwargs, ax, backend, backend_config, backend_kwargs, show)\u001b[0m\n\u001b[1;32m    152\u001b[0m         \u001b[0mdivergence_data\u001b[0m \u001b[0;34m=\u001b[0m \u001b[0;32mFalse\u001b[0m\u001b[0;34m\u001b[0m\u001b[0;34m\u001b[0m\u001b[0m\n\u001b[1;32m    153\u001b[0m \u001b[0;34m\u001b[0m\u001b[0m\n\u001b[0;32m--> 154\u001b[0;31m     \u001b[0mdata\u001b[0m \u001b[0;34m=\u001b[0m \u001b[0mget_coords\u001b[0m\u001b[0;34m(\u001b[0m\u001b[0mconvert_to_dataset\u001b[0m\u001b[0;34m(\u001b[0m\u001b[0mdata\u001b[0m\u001b[0;34m,\u001b[0m \u001b[0mgroup\u001b[0m\u001b[0;34m=\u001b[0m\u001b[0;34m\"posterior\"\u001b[0m\u001b[0;34m)\u001b[0m\u001b[0;34m,\u001b[0m \u001b[0mcoords\u001b[0m\u001b[0;34m)\u001b[0m\u001b[0;34m\u001b[0m\u001b[0;34m\u001b[0m\u001b[0m\n\u001b[0m\u001b[1;32m    155\u001b[0m \u001b[0;34m\u001b[0m\u001b[0m\n\u001b[1;32m    156\u001b[0m     \u001b[0;32mif\u001b[0m \u001b[0mtransform\u001b[0m \u001b[0;32mis\u001b[0m \u001b[0;32mnot\u001b[0m \u001b[0;32mNone\u001b[0m\u001b[0;34m:\u001b[0m\u001b[0;34m\u001b[0m\u001b[0;34m\u001b[0m\u001b[0m\n",
            "\u001b[0;32m/usr/local/lib/python3.6/dist-packages/arviz/data/converters.py\u001b[0m in \u001b[0;36mconvert_to_dataset\u001b[0;34m(obj, group, coords, dims)\u001b[0m\n\u001b[1;32m    166\u001b[0m     \u001b[0mxarray\u001b[0m\u001b[0;34m.\u001b[0m\u001b[0mDataset\u001b[0m\u001b[0;34m\u001b[0m\u001b[0;34m\u001b[0m\u001b[0m\n\u001b[1;32m    167\u001b[0m     \"\"\"\n\u001b[0;32m--> 168\u001b[0;31m     \u001b[0minference_data\u001b[0m \u001b[0;34m=\u001b[0m \u001b[0mconvert_to_inference_data\u001b[0m\u001b[0;34m(\u001b[0m\u001b[0mobj\u001b[0m\u001b[0;34m,\u001b[0m \u001b[0mgroup\u001b[0m\u001b[0;34m=\u001b[0m\u001b[0mgroup\u001b[0m\u001b[0;34m,\u001b[0m \u001b[0mcoords\u001b[0m\u001b[0;34m=\u001b[0m\u001b[0mcoords\u001b[0m\u001b[0;34m,\u001b[0m \u001b[0mdims\u001b[0m\u001b[0;34m=\u001b[0m\u001b[0mdims\u001b[0m\u001b[0;34m)\u001b[0m\u001b[0;34m\u001b[0m\u001b[0;34m\u001b[0m\u001b[0m\n\u001b[0m\u001b[1;32m    169\u001b[0m     \u001b[0mdataset\u001b[0m \u001b[0;34m=\u001b[0m \u001b[0mgetattr\u001b[0m\u001b[0;34m(\u001b[0m\u001b[0minference_data\u001b[0m\u001b[0;34m,\u001b[0m \u001b[0mgroup\u001b[0m\u001b[0;34m,\u001b[0m \u001b[0;32mNone\u001b[0m\u001b[0;34m)\u001b[0m\u001b[0;34m\u001b[0m\u001b[0;34m\u001b[0m\u001b[0m\n\u001b[1;32m    170\u001b[0m     \u001b[0;32mif\u001b[0m \u001b[0mdataset\u001b[0m \u001b[0;32mis\u001b[0m \u001b[0;32mNone\u001b[0m\u001b[0;34m:\u001b[0m\u001b[0;34m\u001b[0m\u001b[0;34m\u001b[0m\u001b[0m\n",
            "\u001b[0;32m/usr/local/lib/python3.6/dist-packages/arviz/data/converters.py\u001b[0m in \u001b[0;36mconvert_to_inference_data\u001b[0;34m(obj, group, coords, dims, **kwargs)\u001b[0m\n\u001b[1;32m     87\u001b[0m             \u001b[0;32mreturn\u001b[0m \u001b[0mfrom_pystan\u001b[0m\u001b[0;34m(\u001b[0m\u001b[0;34m**\u001b[0m\u001b[0mkwargs\u001b[0m\u001b[0;34m)\u001b[0m\u001b[0;34m\u001b[0m\u001b[0;34m\u001b[0m\u001b[0m\n\u001b[1;32m     88\u001b[0m     \u001b[0;32melif\u001b[0m \u001b[0mobj\u001b[0m\u001b[0;34m.\u001b[0m\u001b[0m__class__\u001b[0m\u001b[0;34m.\u001b[0m\u001b[0m__name__\u001b[0m \u001b[0;34m==\u001b[0m \u001b[0;34m\"MultiTrace\"\u001b[0m\u001b[0;34m:\u001b[0m  \u001b[0;31m# ugly, but doesn't make PyMC3 a requirement\u001b[0m\u001b[0;34m\u001b[0m\u001b[0;34m\u001b[0m\u001b[0m\n\u001b[0;32m---> 89\u001b[0;31m         \u001b[0;32mreturn\u001b[0m \u001b[0mfrom_pymc3\u001b[0m\u001b[0;34m(\u001b[0m\u001b[0mtrace\u001b[0m\u001b[0;34m=\u001b[0m\u001b[0mkwargs\u001b[0m\u001b[0;34m.\u001b[0m\u001b[0mpop\u001b[0m\u001b[0;34m(\u001b[0m\u001b[0mgroup\u001b[0m\u001b[0;34m)\u001b[0m\u001b[0;34m,\u001b[0m \u001b[0;34m**\u001b[0m\u001b[0mkwargs\u001b[0m\u001b[0;34m)\u001b[0m\u001b[0;34m\u001b[0m\u001b[0;34m\u001b[0m\u001b[0m\n\u001b[0m\u001b[1;32m     90\u001b[0m     \u001b[0;32melif\u001b[0m \u001b[0mobj\u001b[0m\u001b[0;34m.\u001b[0m\u001b[0m__class__\u001b[0m\u001b[0;34m.\u001b[0m\u001b[0m__name__\u001b[0m \u001b[0;34m==\u001b[0m \u001b[0;34m\"EnsembleSampler\"\u001b[0m\u001b[0;34m:\u001b[0m  \u001b[0;31m# ugly, but doesn't make emcee a requirement\u001b[0m\u001b[0;34m\u001b[0m\u001b[0;34m\u001b[0m\u001b[0m\n\u001b[1;32m     91\u001b[0m         \u001b[0;32mreturn\u001b[0m \u001b[0mfrom_emcee\u001b[0m\u001b[0;34m(\u001b[0m\u001b[0msampler\u001b[0m\u001b[0;34m=\u001b[0m\u001b[0mkwargs\u001b[0m\u001b[0;34m.\u001b[0m\u001b[0mpop\u001b[0m\u001b[0;34m(\u001b[0m\u001b[0mgroup\u001b[0m\u001b[0;34m)\u001b[0m\u001b[0;34m,\u001b[0m \u001b[0;34m**\u001b[0m\u001b[0mkwargs\u001b[0m\u001b[0;34m)\u001b[0m\u001b[0;34m\u001b[0m\u001b[0;34m\u001b[0m\u001b[0m\n",
            "\u001b[0;32m/usr/local/lib/python3.6/dist-packages/arviz/data/io_pymc3.py\u001b[0m in \u001b[0;36mfrom_pymc3\u001b[0;34m(trace, prior, posterior_predictive, log_likelihood, coords, dims, model)\u001b[0m\n\u001b[1;32m    426\u001b[0m         \u001b[0mcoords\u001b[0m\u001b[0;34m=\u001b[0m\u001b[0mcoords\u001b[0m\u001b[0;34m,\u001b[0m\u001b[0;34m\u001b[0m\u001b[0;34m\u001b[0m\u001b[0m\n\u001b[1;32m    427\u001b[0m         \u001b[0mdims\u001b[0m\u001b[0;34m=\u001b[0m\u001b[0mdims\u001b[0m\u001b[0;34m,\u001b[0m\u001b[0;34m\u001b[0m\u001b[0;34m\u001b[0m\u001b[0m\n\u001b[0;32m--> 428\u001b[0;31m         \u001b[0mmodel\u001b[0m\u001b[0;34m=\u001b[0m\u001b[0mmodel\u001b[0m\u001b[0;34m,\u001b[0m\u001b[0;34m\u001b[0m\u001b[0;34m\u001b[0m\u001b[0m\n\u001b[0m\u001b[1;32m    429\u001b[0m     ).to_inference_data()\n\u001b[1;32m    430\u001b[0m \u001b[0;34m\u001b[0m\u001b[0m\n",
            "\u001b[0;32m/usr/local/lib/python3.6/dist-packages/arviz/data/io_pymc3.py\u001b[0m in \u001b[0;36mto_inference_data\u001b[0;34m(self)\u001b[0m\n\u001b[1;32m    366\u001b[0m             \u001b[0;34m\"posterior\"\u001b[0m\u001b[0;34m:\u001b[0m \u001b[0mself\u001b[0m\u001b[0;34m.\u001b[0m\u001b[0mposterior_to_xarray\u001b[0m\u001b[0;34m(\u001b[0m\u001b[0;34m)\u001b[0m\u001b[0;34m,\u001b[0m\u001b[0;34m\u001b[0m\u001b[0;34m\u001b[0m\u001b[0m\n\u001b[1;32m    367\u001b[0m             \u001b[0;34m\"sample_stats\"\u001b[0m\u001b[0;34m:\u001b[0m \u001b[0mself\u001b[0m\u001b[0;34m.\u001b[0m\u001b[0msample_stats_to_xarray\u001b[0m\u001b[0;34m(\u001b[0m\u001b[0;34m)\u001b[0m\u001b[0;34m,\u001b[0m\u001b[0;34m\u001b[0m\u001b[0;34m\u001b[0m\u001b[0m\n\u001b[0;32m--> 368\u001b[0;31m             \u001b[0;34m\"log_likelihood\"\u001b[0m\u001b[0;34m:\u001b[0m \u001b[0mself\u001b[0m\u001b[0;34m.\u001b[0m\u001b[0mlog_likelihood_to_xarray\u001b[0m\u001b[0;34m(\u001b[0m\u001b[0;34m)\u001b[0m\u001b[0;34m,\u001b[0m\u001b[0;34m\u001b[0m\u001b[0;34m\u001b[0m\u001b[0m\n\u001b[0m\u001b[1;32m    369\u001b[0m             \u001b[0;34m\"posterior_predictive\"\u001b[0m\u001b[0;34m:\u001b[0m \u001b[0mself\u001b[0m\u001b[0;34m.\u001b[0m\u001b[0mposterior_predictive_to_xarray\u001b[0m\u001b[0;34m(\u001b[0m\u001b[0;34m)\u001b[0m\u001b[0;34m,\u001b[0m\u001b[0;34m\u001b[0m\u001b[0;34m\u001b[0m\u001b[0m\n\u001b[1;32m    370\u001b[0m             \u001b[0;34m\"predictions\"\u001b[0m\u001b[0;34m:\u001b[0m \u001b[0mself\u001b[0m\u001b[0;34m.\u001b[0m\u001b[0mpredictions_to_xarray\u001b[0m\u001b[0;34m(\u001b[0m\u001b[0;34m)\u001b[0m\u001b[0;34m,\u001b[0m\u001b[0;34m\u001b[0m\u001b[0;34m\u001b[0m\u001b[0m\n",
            "\u001b[0;32m/usr/local/lib/python3.6/dist-packages/arviz/data/base.py\u001b[0m in \u001b[0;36mwrapped\u001b[0;34m(cls, *args, **kwargs)\u001b[0m\n\u001b[1;32m     35\u001b[0m                 \u001b[0;32mif\u001b[0m \u001b[0mall\u001b[0m\u001b[0;34m(\u001b[0m\u001b[0;34m[\u001b[0m\u001b[0mgetattr\u001b[0m\u001b[0;34m(\u001b[0m\u001b[0mcls\u001b[0m\u001b[0;34m,\u001b[0m \u001b[0mprop_i\u001b[0m\u001b[0;34m)\u001b[0m \u001b[0;32mis\u001b[0m \u001b[0;32mNone\u001b[0m \u001b[0;32mfor\u001b[0m \u001b[0mprop_i\u001b[0m \u001b[0;32min\u001b[0m \u001b[0mprop\u001b[0m\u001b[0;34m]\u001b[0m\u001b[0;34m)\u001b[0m\u001b[0;34m:\u001b[0m\u001b[0;34m\u001b[0m\u001b[0;34m\u001b[0m\u001b[0m\n\u001b[1;32m     36\u001b[0m                     \u001b[0;32mreturn\u001b[0m \u001b[0;32mNone\u001b[0m\u001b[0;34m\u001b[0m\u001b[0;34m\u001b[0m\u001b[0m\n\u001b[0;32m---> 37\u001b[0;31m             \u001b[0;32mreturn\u001b[0m \u001b[0mfunc\u001b[0m\u001b[0;34m(\u001b[0m\u001b[0mcls\u001b[0m\u001b[0;34m,\u001b[0m \u001b[0;34m*\u001b[0m\u001b[0margs\u001b[0m\u001b[0;34m,\u001b[0m \u001b[0;34m**\u001b[0m\u001b[0mkwargs\u001b[0m\u001b[0;34m)\u001b[0m\u001b[0;34m\u001b[0m\u001b[0;34m\u001b[0m\u001b[0m\n\u001b[0m\u001b[1;32m     38\u001b[0m \u001b[0;34m\u001b[0m\u001b[0m\n\u001b[1;32m     39\u001b[0m         \u001b[0;32mreturn\u001b[0m \u001b[0mwrapped\u001b[0m\u001b[0;34m\u001b[0m\u001b[0;34m\u001b[0m\u001b[0m\n",
            "\u001b[0;32m/usr/local/lib/python3.6/dist-packages/arviz/data/base.py\u001b[0m in \u001b[0;36mwrapped\u001b[0;34m(cls, *args, **kwargs)\u001b[0m\n\u001b[1;32m     35\u001b[0m                 \u001b[0;32mif\u001b[0m \u001b[0mall\u001b[0m\u001b[0;34m(\u001b[0m\u001b[0;34m[\u001b[0m\u001b[0mgetattr\u001b[0m\u001b[0;34m(\u001b[0m\u001b[0mcls\u001b[0m\u001b[0;34m,\u001b[0m \u001b[0mprop_i\u001b[0m\u001b[0;34m)\u001b[0m \u001b[0;32mis\u001b[0m \u001b[0;32mNone\u001b[0m \u001b[0;32mfor\u001b[0m \u001b[0mprop_i\u001b[0m \u001b[0;32min\u001b[0m \u001b[0mprop\u001b[0m\u001b[0;34m]\u001b[0m\u001b[0;34m)\u001b[0m\u001b[0;34m:\u001b[0m\u001b[0;34m\u001b[0m\u001b[0;34m\u001b[0m\u001b[0m\n\u001b[1;32m     36\u001b[0m                     \u001b[0;32mreturn\u001b[0m \u001b[0;32mNone\u001b[0m\u001b[0;34m\u001b[0m\u001b[0;34m\u001b[0m\u001b[0m\n\u001b[0;32m---> 37\u001b[0;31m             \u001b[0;32mreturn\u001b[0m \u001b[0mfunc\u001b[0m\u001b[0;34m(\u001b[0m\u001b[0mcls\u001b[0m\u001b[0;34m,\u001b[0m \u001b[0;34m*\u001b[0m\u001b[0margs\u001b[0m\u001b[0;34m,\u001b[0m \u001b[0;34m**\u001b[0m\u001b[0mkwargs\u001b[0m\u001b[0;34m)\u001b[0m\u001b[0;34m\u001b[0m\u001b[0;34m\u001b[0m\u001b[0m\n\u001b[0m\u001b[1;32m     38\u001b[0m \u001b[0;34m\u001b[0m\u001b[0m\n\u001b[1;32m     39\u001b[0m         \u001b[0;32mreturn\u001b[0m \u001b[0mwrapped\u001b[0m\u001b[0;34m\u001b[0m\u001b[0;34m\u001b[0m\u001b[0m\n",
            "\u001b[0;32m/usr/local/lib/python3.6/dist-packages/arviz/data/io_pymc3.py\u001b[0m in \u001b[0;36mlog_likelihood_to_xarray\u001b[0;34m(self)\u001b[0m\n\u001b[1;32m    212\u001b[0m             \u001b[0;32mreturn\u001b[0m \u001b[0;32mNone\u001b[0m\u001b[0;34m\u001b[0m\u001b[0;34m\u001b[0m\u001b[0m\n\u001b[1;32m    213\u001b[0m         \u001b[0;32mtry\u001b[0m\u001b[0;34m:\u001b[0m\u001b[0;34m\u001b[0m\u001b[0;34m\u001b[0m\u001b[0m\n\u001b[0;32m--> 214\u001b[0;31m             \u001b[0mdata\u001b[0m \u001b[0;34m=\u001b[0m \u001b[0mself\u001b[0m\u001b[0;34m.\u001b[0m\u001b[0m_extract_log_likelihood\u001b[0m\u001b[0;34m(\u001b[0m\u001b[0;34m)\u001b[0m\u001b[0;34m\u001b[0m\u001b[0;34m\u001b[0m\u001b[0m\n\u001b[0m\u001b[1;32m    215\u001b[0m         \u001b[0;32mexcept\u001b[0m \u001b[0mTypeError\u001b[0m\u001b[0;34m:\u001b[0m\u001b[0;34m\u001b[0m\u001b[0;34m\u001b[0m\u001b[0m\n\u001b[1;32m    216\u001b[0m             warnings.warn(\n",
            "\u001b[0;32m/usr/local/lib/python3.6/dist-packages/arviz/data/base.py\u001b[0m in \u001b[0;36mwrapped\u001b[0;34m(cls, *args, **kwargs)\u001b[0m\n\u001b[1;32m     35\u001b[0m                 \u001b[0;32mif\u001b[0m \u001b[0mall\u001b[0m\u001b[0;34m(\u001b[0m\u001b[0;34m[\u001b[0m\u001b[0mgetattr\u001b[0m\u001b[0;34m(\u001b[0m\u001b[0mcls\u001b[0m\u001b[0;34m,\u001b[0m \u001b[0mprop_i\u001b[0m\u001b[0;34m)\u001b[0m \u001b[0;32mis\u001b[0m \u001b[0;32mNone\u001b[0m \u001b[0;32mfor\u001b[0m \u001b[0mprop_i\u001b[0m \u001b[0;32min\u001b[0m \u001b[0mprop\u001b[0m\u001b[0;34m]\u001b[0m\u001b[0;34m)\u001b[0m\u001b[0;34m:\u001b[0m\u001b[0;34m\u001b[0m\u001b[0;34m\u001b[0m\u001b[0m\n\u001b[1;32m     36\u001b[0m                     \u001b[0;32mreturn\u001b[0m \u001b[0;32mNone\u001b[0m\u001b[0;34m\u001b[0m\u001b[0;34m\u001b[0m\u001b[0m\n\u001b[0;32m---> 37\u001b[0;31m             \u001b[0;32mreturn\u001b[0m \u001b[0mfunc\u001b[0m\u001b[0;34m(\u001b[0m\u001b[0mcls\u001b[0m\u001b[0;34m,\u001b[0m \u001b[0;34m*\u001b[0m\u001b[0margs\u001b[0m\u001b[0;34m,\u001b[0m \u001b[0;34m**\u001b[0m\u001b[0mkwargs\u001b[0m\u001b[0;34m)\u001b[0m\u001b[0;34m\u001b[0m\u001b[0;34m\u001b[0m\u001b[0m\n\u001b[0m\u001b[1;32m     38\u001b[0m \u001b[0;34m\u001b[0m\u001b[0m\n\u001b[1;32m     39\u001b[0m         \u001b[0;32mreturn\u001b[0m \u001b[0mwrapped\u001b[0m\u001b[0;34m\u001b[0m\u001b[0;34m\u001b[0m\u001b[0m\n",
            "\u001b[0;32m/usr/local/lib/python3.6/dist-packages/arviz/data/base.py\u001b[0m in \u001b[0;36mwrapped\u001b[0;34m(cls, *args, **kwargs)\u001b[0m\n\u001b[1;32m     35\u001b[0m                 \u001b[0;32mif\u001b[0m \u001b[0mall\u001b[0m\u001b[0;34m(\u001b[0m\u001b[0;34m[\u001b[0m\u001b[0mgetattr\u001b[0m\u001b[0;34m(\u001b[0m\u001b[0mcls\u001b[0m\u001b[0;34m,\u001b[0m \u001b[0mprop_i\u001b[0m\u001b[0;34m)\u001b[0m \u001b[0;32mis\u001b[0m \u001b[0;32mNone\u001b[0m \u001b[0;32mfor\u001b[0m \u001b[0mprop_i\u001b[0m \u001b[0;32min\u001b[0m \u001b[0mprop\u001b[0m\u001b[0;34m]\u001b[0m\u001b[0;34m)\u001b[0m\u001b[0;34m:\u001b[0m\u001b[0;34m\u001b[0m\u001b[0;34m\u001b[0m\u001b[0m\n\u001b[1;32m     36\u001b[0m                     \u001b[0;32mreturn\u001b[0m \u001b[0;32mNone\u001b[0m\u001b[0;34m\u001b[0m\u001b[0;34m\u001b[0m\u001b[0m\n\u001b[0;32m---> 37\u001b[0;31m             \u001b[0;32mreturn\u001b[0m \u001b[0mfunc\u001b[0m\u001b[0;34m(\u001b[0m\u001b[0mcls\u001b[0m\u001b[0;34m,\u001b[0m \u001b[0;34m*\u001b[0m\u001b[0margs\u001b[0m\u001b[0;34m,\u001b[0m \u001b[0;34m**\u001b[0m\u001b[0mkwargs\u001b[0m\u001b[0;34m)\u001b[0m\u001b[0;34m\u001b[0m\u001b[0;34m\u001b[0m\u001b[0m\n\u001b[0m\u001b[1;32m     38\u001b[0m \u001b[0;34m\u001b[0m\u001b[0m\n\u001b[1;32m     39\u001b[0m         \u001b[0;32mreturn\u001b[0m \u001b[0mwrapped\u001b[0m\u001b[0;34m\u001b[0m\u001b[0;34m\u001b[0m\u001b[0m\n",
            "\u001b[0;32m/usr/local/lib/python3.6/dist-packages/arviz/data/io_pymc3.py\u001b[0m in \u001b[0;36m_extract_log_likelihood\u001b[0;34m(self)\u001b[0m\n\u001b[1;32m    170\u001b[0m         \u001b[0;32mexcept\u001b[0m \u001b[0mAttributeError\u001b[0m\u001b[0;34m:\u001b[0m\u001b[0;34m\u001b[0m\u001b[0;34m\u001b[0m\u001b[0m\n\u001b[1;32m    171\u001b[0m             raise AttributeError(\n\u001b[0;32m--> 172\u001b[0;31m                 \u001b[0;34m\"Installed version of ArviZ requires PyMC3>=3.8. Please upgrade with \"\u001b[0m\u001b[0;34m\u001b[0m\u001b[0;34m\u001b[0m\u001b[0m\n\u001b[0m\u001b[1;32m    173\u001b[0m                 \u001b[0;34m\"`pip install pymc3>=3.8` or `conda install -c conda-forge pymc3>=3.8`.\"\u001b[0m\u001b[0;34m\u001b[0m\u001b[0;34m\u001b[0m\u001b[0m\n\u001b[1;32m    174\u001b[0m             )\n",
            "\u001b[0;31mAttributeError\u001b[0m: Installed version of ArviZ requires PyMC3>=3.8. Please upgrade with `pip install pymc3>=3.8` or `conda install -c conda-forge pymc3>=3.8`."
          ]
        }
      ]
    }
  ]
}