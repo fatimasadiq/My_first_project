{
  "nbformat": 4,
  "nbformat_minor": 0,
  "metadata": {
    "colab": {
      "name": "Covid19.ipynb",
      "provenance": [],
      "authorship_tag": "ABX9TyMP4txKlUBLZTTCPi3KTAch",
      "include_colab_link": true
    },
    "kernelspec": {
      "name": "python3",
      "display_name": "Python 3"
    }
  },
  "cells": [
    {
      "cell_type": "markdown",
      "metadata": {
        "id": "view-in-github",
        "colab_type": "text"
      },
      "source": [
        "<a href=\"https://colab.research.google.com/github/fatimasadiq/My_first_project/blob/master/Covid19.ipynb\" target=\"_parent\"><img src=\"https://colab.research.google.com/assets/colab-badge.svg\" alt=\"Open In Colab\"/></a>"
      ]
    },
    {
      "cell_type": "code",
      "metadata": {
        "id": "v5xQTHeO8hoX",
        "colab_type": "code",
        "colab": {}
      },
      "source": [
        "import os\n",
        "import tweepy as tw\n",
        "import pandas as pd"
      ],
      "execution_count": 0,
      "outputs": []
    },
    {
      "cell_type": "code",
      "metadata": {
        "id": "a9BkO3ry9c07",
        "colab_type": "code",
        "colab": {}
      },
      "source": [
        "consumer_key= 'nTaPccqyqGUrNnjCIVh77KoZ4'\n",
        "consumer_secret= 'ZIpw6noqIFq2jqCt3smtGEy9CsDtdCaLN4feXTXV880UUieumt'\n",
        "access_token= '2572948914-Ks4gB77n524RrVG2KW4ocBXdgvI0jhdiLsoVIAU'\n",
        "access_token_secret= '09Hc0EFXCNmFtOSTf1jqFZLaezYO3bmqkhGE7t0Hi64bX'"
      ],
      "execution_count": 0,
      "outputs": []
    },
    {
      "cell_type": "code",
      "metadata": {
        "id": "dCBwkIzH85EM",
        "colab_type": "code",
        "colab": {}
      },
      "source": [
        "auth = tw.OAuthHandler(consumer_key, consumer_secret)\n",
        "auth.set_access_token(access_token, access_token_secret)\n",
        "api = tw.API(auth, wait_on_rate_limit=True)"
      ],
      "execution_count": 0,
      "outputs": []
    },
    {
      "cell_type": "code",
      "metadata": {
        "id": "XA6rxHwa95uG",
        "colab_type": "code",
        "colab": {
          "base_uri": "https://localhost:8080/",
          "height": 55
        },
        "outputId": "977200b2-623e-4b31-b845-b622a8914e05"
      },
      "source": [
        "api.update_status(\"I'm looking for Covid19  data sources tweets such as WHO!!!!!\")"
      ],
      "execution_count": 73,
      "outputs": [
        {
          "output_type": "execute_result",
          "data": {
            "text/plain": [
              "Status(_api=<tweepy.api.API object at 0x7f478bb1d630>, _json={'created_at': 'Wed May 20 11:50:19 +0000 2020', 'id': 1263074571906883585, 'id_str': '1263074571906883585', 'text': \"I'm looking for Covid19  data sources tweets such as WHO!!!!!\", 'truncated': False, 'entities': {'hashtags': [], 'symbols': [], 'user_mentions': [], 'urls': []}, 'source': '<a href=\"https://placeholder.com\" rel=\"nofollow\">Covid19-20</a>', 'in_reply_to_status_id': None, 'in_reply_to_status_id_str': None, 'in_reply_to_user_id': None, 'in_reply_to_user_id_str': None, 'in_reply_to_screen_name': None, 'user': {'id': 2572948914, 'id_str': '2572948914', 'name': 'Fatima Sadiq', 'screen_name': 'fatimasadiq198', 'location': 'Peshawar, Pakistan', 'description': 'Microsoft Student Partner , \\nUET Peshawar', 'url': None, 'entities': {'description': {'urls': []}}, 'protected': False, 'followers_count': 90, 'friends_count': 414, 'listed_count': 2, 'created_at': 'Tue Jun 17 14:00:51 +0000 2014', 'favourites_count': 34, 'utc_offset': None, 'time_zone': None, 'geo_enabled': False, 'verified': False, 'statuses_count': 113, 'lang': None, 'contributors_enabled': False, 'is_translator': False, 'is_translation_enabled': False, 'profile_background_color': '642D8B', 'profile_background_image_url': 'http://abs.twimg.com/images/themes/theme10/bg.gif', 'profile_background_image_url_https': 'https://abs.twimg.com/images/themes/theme10/bg.gif', 'profile_background_tile': True, 'profile_image_url': 'http://pbs.twimg.com/profile_images/1007290307799642112/bqiBNdEe_normal.jpg', 'profile_image_url_https': 'https://pbs.twimg.com/profile_images/1007290307799642112/bqiBNdEe_normal.jpg', 'profile_banner_url': 'https://pbs.twimg.com/profile_banners/2572948914/1417179543', 'profile_link_color': 'FF0000', 'profile_sidebar_border_color': '65B0DA', 'profile_sidebar_fill_color': '7AC3EE', 'profile_text_color': '3D1957', 'profile_use_background_image': True, 'has_extended_profile': False, 'default_profile': False, 'default_profile_image': False, 'following': False, 'follow_request_sent': False, 'notifications': False, 'translator_type': 'none'}, 'geo': None, 'coordinates': None, 'place': None, 'contributors': None, 'is_quote_status': False, 'retweet_count': 0, 'favorite_count': 0, 'favorited': False, 'retweeted': False, 'lang': 'en'}, created_at=datetime.datetime(2020, 5, 20, 11, 50, 19), id=1263074571906883585, id_str='1263074571906883585', text=\"I'm looking for Covid19  data sources tweets such as WHO!!!!!\", truncated=False, entities={'hashtags': [], 'symbols': [], 'user_mentions': [], 'urls': []}, source='Covid19-20', source_url='https://placeholder.com', in_reply_to_status_id=None, in_reply_to_status_id_str=None, in_reply_to_user_id=None, in_reply_to_user_id_str=None, in_reply_to_screen_name=None, author=User(_api=<tweepy.api.API object at 0x7f478bb1d630>, _json={'id': 2572948914, 'id_str': '2572948914', 'name': 'Fatima Sadiq', 'screen_name': 'fatimasadiq198', 'location': 'Peshawar, Pakistan', 'description': 'Microsoft Student Partner , \\nUET Peshawar', 'url': None, 'entities': {'description': {'urls': []}}, 'protected': False, 'followers_count': 90, 'friends_count': 414, 'listed_count': 2, 'created_at': 'Tue Jun 17 14:00:51 +0000 2014', 'favourites_count': 34, 'utc_offset': None, 'time_zone': None, 'geo_enabled': False, 'verified': False, 'statuses_count': 113, 'lang': None, 'contributors_enabled': False, 'is_translator': False, 'is_translation_enabled': False, 'profile_background_color': '642D8B', 'profile_background_image_url': 'http://abs.twimg.com/images/themes/theme10/bg.gif', 'profile_background_image_url_https': 'https://abs.twimg.com/images/themes/theme10/bg.gif', 'profile_background_tile': True, 'profile_image_url': 'http://pbs.twimg.com/profile_images/1007290307799642112/bqiBNdEe_normal.jpg', 'profile_image_url_https': 'https://pbs.twimg.com/profile_images/1007290307799642112/bqiBNdEe_normal.jpg', 'profile_banner_url': 'https://pbs.twimg.com/profile_banners/2572948914/1417179543', 'profile_link_color': 'FF0000', 'profile_sidebar_border_color': '65B0DA', 'profile_sidebar_fill_color': '7AC3EE', 'profile_text_color': '3D1957', 'profile_use_background_image': True, 'has_extended_profile': False, 'default_profile': False, 'default_profile_image': False, 'following': False, 'follow_request_sent': False, 'notifications': False, 'translator_type': 'none'}, id=2572948914, id_str='2572948914', name='Fatima Sadiq', screen_name='fatimasadiq198', location='Peshawar, Pakistan', description='Microsoft Student Partner , \\nUET Peshawar', url=None, entities={'description': {'urls': []}}, protected=False, followers_count=90, friends_count=414, listed_count=2, created_at=datetime.datetime(2014, 6, 17, 14, 0, 51), favourites_count=34, utc_offset=None, time_zone=None, geo_enabled=False, verified=False, statuses_count=113, lang=None, contributors_enabled=False, is_translator=False, is_translation_enabled=False, profile_background_color='642D8B', profile_background_image_url='http://abs.twimg.com/images/themes/theme10/bg.gif', profile_background_image_url_https='https://abs.twimg.com/images/themes/theme10/bg.gif', profile_background_tile=True, profile_image_url='http://pbs.twimg.com/profile_images/1007290307799642112/bqiBNdEe_normal.jpg', profile_image_url_https='https://pbs.twimg.com/profile_images/1007290307799642112/bqiBNdEe_normal.jpg', profile_banner_url='https://pbs.twimg.com/profile_banners/2572948914/1417179543', profile_link_color='FF0000', profile_sidebar_border_color='65B0DA', profile_sidebar_fill_color='7AC3EE', profile_text_color='3D1957', profile_use_background_image=True, has_extended_profile=False, default_profile=False, default_profile_image=False, following=False, follow_request_sent=False, notifications=False, translator_type='none'), user=User(_api=<tweepy.api.API object at 0x7f478bb1d630>, _json={'id': 2572948914, 'id_str': '2572948914', 'name': 'Fatima Sadiq', 'screen_name': 'fatimasadiq198', 'location': 'Peshawar, Pakistan', 'description': 'Microsoft Student Partner , \\nUET Peshawar', 'url': None, 'entities': {'description': {'urls': []}}, 'protected': False, 'followers_count': 90, 'friends_count': 414, 'listed_count': 2, 'created_at': 'Tue Jun 17 14:00:51 +0000 2014', 'favourites_count': 34, 'utc_offset': None, 'time_zone': None, 'geo_enabled': False, 'verified': False, 'statuses_count': 113, 'lang': None, 'contributors_enabled': False, 'is_translator': False, 'is_translation_enabled': False, 'profile_background_color': '642D8B', 'profile_background_image_url': 'http://abs.twimg.com/images/themes/theme10/bg.gif', 'profile_background_image_url_https': 'https://abs.twimg.com/images/themes/theme10/bg.gif', 'profile_background_tile': True, 'profile_image_url': 'http://pbs.twimg.com/profile_images/1007290307799642112/bqiBNdEe_normal.jpg', 'profile_image_url_https': 'https://pbs.twimg.com/profile_images/1007290307799642112/bqiBNdEe_normal.jpg', 'profile_banner_url': 'https://pbs.twimg.com/profile_banners/2572948914/1417179543', 'profile_link_color': 'FF0000', 'profile_sidebar_border_color': '65B0DA', 'profile_sidebar_fill_color': '7AC3EE', 'profile_text_color': '3D1957', 'profile_use_background_image': True, 'has_extended_profile': False, 'default_profile': False, 'default_profile_image': False, 'following': False, 'follow_request_sent': False, 'notifications': False, 'translator_type': 'none'}, id=2572948914, id_str='2572948914', name='Fatima Sadiq', screen_name='fatimasadiq198', location='Peshawar, Pakistan', description='Microsoft Student Partner , \\nUET Peshawar', url=None, entities={'description': {'urls': []}}, protected=False, followers_count=90, friends_count=414, listed_count=2, created_at=datetime.datetime(2014, 6, 17, 14, 0, 51), favourites_count=34, utc_offset=None, time_zone=None, geo_enabled=False, verified=False, statuses_count=113, lang=None, contributors_enabled=False, is_translator=False, is_translation_enabled=False, profile_background_color='642D8B', profile_background_image_url='http://abs.twimg.com/images/themes/theme10/bg.gif', profile_background_image_url_https='https://abs.twimg.com/images/themes/theme10/bg.gif', profile_background_tile=True, profile_image_url='http://pbs.twimg.com/profile_images/1007290307799642112/bqiBNdEe_normal.jpg', profile_image_url_https='https://pbs.twimg.com/profile_images/1007290307799642112/bqiBNdEe_normal.jpg', profile_banner_url='https://pbs.twimg.com/profile_banners/2572948914/1417179543', profile_link_color='FF0000', profile_sidebar_border_color='65B0DA', profile_sidebar_fill_color='7AC3EE', profile_text_color='3D1957', profile_use_background_image=True, has_extended_profile=False, default_profile=False, default_profile_image=False, following=False, follow_request_sent=False, notifications=False, translator_type='none'), geo=None, coordinates=None, place=None, contributors=None, is_quote_status=False, retweet_count=0, favorite_count=0, favorited=False, retweeted=False, lang='en')"
            ]
          },
          "metadata": {
            "tags": []
          },
          "execution_count": 73
        }
      ]
    },
    {
      "cell_type": "code",
      "metadata": {
        "id": "1zYYo94L-3Ui",
        "colab_type": "code",
        "colab": {}
      },
      "source": [
        "# Define the search term and the date_since date as variables\n",
        "search_words = \"@WHO+COVID19+COVID-19\"\n",
        "date_since = \"2020-05-12\""
      ],
      "execution_count": 0,
      "outputs": []
    },
    {
      "cell_type": "code",
      "metadata": {
        "id": "_8FC2v4zBSy1",
        "colab_type": "code",
        "colab": {}
      },
      "source": [
        "# Collect tweets\n",
        "tweets = tw.Cursor(api.search,\n",
        "              q=search_words,\n",
        "              lang=\"en\",\n",
        "              since=date_since).items(15000)\n",
        "              \n",
        "#tweets\n",
        "tweettext=[tweet.text for tweet in tweets]\n",
        "#tweettext\n",
        "df = pd.DataFrame(tweettext)\n",
        "df.to_csv('covid19tweets.csv', mode='a', header=False)"
      ],
      "execution_count": 0,
      "outputs": []
    },
    {
      "cell_type": "code",
      "metadata": {
        "id": "NmlnTnt9Bh2J",
        "colab_type": "code",
        "colab": {
          "base_uri": "https://localhost:8080/",
          "height": 55
        },
        "outputId": "b486764e-fee5-4d5c-d0d9-a23145dcb01e"
      },
      "source": [
        "# Iterate and print tweets\n",
        "for tweet in tweets:\n",
        "    print(tweet.text)\n",
        "df = pd.DataFrame(tweets)\n",
        "df.to_csv('covid19tweets.csv', mode='a', header=False)\n",
        "    \n",
        "#[tweet.text for tweet in tweets]"
      ],
      "execution_count": 48,
      "outputs": [
        {
          "output_type": "stream",
          "text": [
            "RT @WHO: False information on #COVID19 is spreading &amp; putting people in danger. Make sure to double-check everything you hear against trust…\n"
          ],
          "name": "stdout"
        }
      ]
    }
  ]
}